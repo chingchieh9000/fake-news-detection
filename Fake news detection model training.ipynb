{
 "cells": [
  {
   "cell_type": "markdown",
   "id": "229bb6db",
   "metadata": {},
   "source": [
    "# Dataset Description"
   ]
  },
  {
   "cell_type": "markdown",
   "id": "97aeca74",
   "metadata": {},
   "source": [
    "train.csv: A full training dataset with the following attributes\n",
    "\n",
    "id: unique id for a news article\n",
    "\n",
    "title: the title of a news article\n",
    "\n",
    "author: author of the news article\n",
    "\n",
    "text: the text of the article; could be incomplete\n",
    "\n",
    "label: a label that marks the article as potentially unreliable\n",
    "\n",
    "  1: reliable\n",
    "  \n",
    "  0: unreliable\n",
    "  \n",
    "test.csv: A testing dataset with all the same attributes at train.csv without the label\n",
    "\n",
    "Dataset taken from:https://www.kaggle.com/datasets/sathiyaak/fake-news-detection-data/data"
   ]
  },
  {
   "cell_type": "code",
   "execution_count": 1,
   "id": "87f64b13",
   "metadata": {},
   "outputs": [],
   "source": [
    "import pandas as pd"
   ]
  },
  {
   "cell_type": "markdown",
   "id": "aadea2c3",
   "metadata": {},
   "source": [
    "# Exploring the data"
   ]
  },
  {
   "cell_type": "code",
   "execution_count": 2,
   "id": "f990d9a3",
   "metadata": {},
   "outputs": [],
   "source": [
    "train_news=pd.read_csv(\"train.csv\")"
   ]
  },
  {
   "cell_type": "code",
   "execution_count": 3,
   "id": "39ba093e",
   "metadata": {},
   "outputs": [
    {
     "data": {
      "text/html": [
       "<div>\n",
       "<style scoped>\n",
       "    .dataframe tbody tr th:only-of-type {\n",
       "        vertical-align: middle;\n",
       "    }\n",
       "\n",
       "    .dataframe tbody tr th {\n",
       "        vertical-align: top;\n",
       "    }\n",
       "\n",
       "    .dataframe thead th {\n",
       "        text-align: right;\n",
       "    }\n",
       "</style>\n",
       "<table border=\"1\" class=\"dataframe\">\n",
       "  <thead>\n",
       "    <tr style=\"text-align: right;\">\n",
       "      <th></th>\n",
       "      <th>id</th>\n",
       "      <th>title</th>\n",
       "      <th>author</th>\n",
       "      <th>text</th>\n",
       "      <th>label</th>\n",
       "    </tr>\n",
       "  </thead>\n",
       "  <tbody>\n",
       "    <tr>\n",
       "      <th>0</th>\n",
       "      <td>0</td>\n",
       "      <td>House Dem Aide: We Didn’t Even See Comey’s Let...</td>\n",
       "      <td>Darrell Lucus</td>\n",
       "      <td>House Dem Aide: We Didn’t Even See Comey’s Let...</td>\n",
       "      <td>1</td>\n",
       "    </tr>\n",
       "    <tr>\n",
       "      <th>1</th>\n",
       "      <td>1</td>\n",
       "      <td>FLYNN: Hillary Clinton, Big Woman on Campus - ...</td>\n",
       "      <td>Daniel J. Flynn</td>\n",
       "      <td>Ever get the feeling your life circles the rou...</td>\n",
       "      <td>0</td>\n",
       "    </tr>\n",
       "    <tr>\n",
       "      <th>2</th>\n",
       "      <td>2</td>\n",
       "      <td>Why the Truth Might Get You Fired</td>\n",
       "      <td>Consortiumnews.com</td>\n",
       "      <td>Why the Truth Might Get You Fired October 29, ...</td>\n",
       "      <td>1</td>\n",
       "    </tr>\n",
       "    <tr>\n",
       "      <th>3</th>\n",
       "      <td>3</td>\n",
       "      <td>15 Civilians Killed In Single US Airstrike Hav...</td>\n",
       "      <td>Jessica Purkiss</td>\n",
       "      <td>Videos 15 Civilians Killed In Single US Airstr...</td>\n",
       "      <td>1</td>\n",
       "    </tr>\n",
       "    <tr>\n",
       "      <th>4</th>\n",
       "      <td>4</td>\n",
       "      <td>Iranian woman jailed for fictional unpublished...</td>\n",
       "      <td>Howard Portnoy</td>\n",
       "      <td>Print \\nAn Iranian woman has been sentenced to...</td>\n",
       "      <td>1</td>\n",
       "    </tr>\n",
       "  </tbody>\n",
       "</table>\n",
       "</div>"
      ],
      "text/plain": [
       "   id                                              title              author  \\\n",
       "0   0  House Dem Aide: We Didn’t Even See Comey’s Let...       Darrell Lucus   \n",
       "1   1  FLYNN: Hillary Clinton, Big Woman on Campus - ...     Daniel J. Flynn   \n",
       "2   2                  Why the Truth Might Get You Fired  Consortiumnews.com   \n",
       "3   3  15 Civilians Killed In Single US Airstrike Hav...     Jessica Purkiss   \n",
       "4   4  Iranian woman jailed for fictional unpublished...      Howard Portnoy   \n",
       "\n",
       "                                                text  label  \n",
       "0  House Dem Aide: We Didn’t Even See Comey’s Let...      1  \n",
       "1  Ever get the feeling your life circles the rou...      0  \n",
       "2  Why the Truth Might Get You Fired October 29, ...      1  \n",
       "3  Videos 15 Civilians Killed In Single US Airstr...      1  \n",
       "4  Print \\nAn Iranian woman has been sentenced to...      1  "
      ]
     },
     "execution_count": 3,
     "metadata": {},
     "output_type": "execute_result"
    }
   ],
   "source": [
    "train_news.head()"
   ]
  },
  {
   "cell_type": "code",
   "execution_count": 4,
   "id": "7ed3b4be",
   "metadata": {},
   "outputs": [],
   "source": [
    "test_news=pd.read_csv(\"test.csv\")"
   ]
  },
  {
   "cell_type": "code",
   "execution_count": 5,
   "id": "2c2c06a5",
   "metadata": {},
   "outputs": [
    {
     "data": {
      "text/html": [
       "<div>\n",
       "<style scoped>\n",
       "    .dataframe tbody tr th:only-of-type {\n",
       "        vertical-align: middle;\n",
       "    }\n",
       "\n",
       "    .dataframe tbody tr th {\n",
       "        vertical-align: top;\n",
       "    }\n",
       "\n",
       "    .dataframe thead th {\n",
       "        text-align: right;\n",
       "    }\n",
       "</style>\n",
       "<table border=\"1\" class=\"dataframe\">\n",
       "  <thead>\n",
       "    <tr style=\"text-align: right;\">\n",
       "      <th></th>\n",
       "      <th>id</th>\n",
       "      <th>title</th>\n",
       "      <th>author</th>\n",
       "      <th>text</th>\n",
       "    </tr>\n",
       "  </thead>\n",
       "  <tbody>\n",
       "    <tr>\n",
       "      <th>0</th>\n",
       "      <td>20800</td>\n",
       "      <td>Specter of Trump Loosens Tongues, if Not Purse...</td>\n",
       "      <td>David Streitfeld</td>\n",
       "      <td>PALO ALTO, Calif.  —   After years of scorning...</td>\n",
       "    </tr>\n",
       "    <tr>\n",
       "      <th>1</th>\n",
       "      <td>20801</td>\n",
       "      <td>Russian warships ready to strike terrorists ne...</td>\n",
       "      <td>NaN</td>\n",
       "      <td>Russian warships ready to strike terrorists ne...</td>\n",
       "    </tr>\n",
       "    <tr>\n",
       "      <th>2</th>\n",
       "      <td>20802</td>\n",
       "      <td>#NoDAPL: Native American Leaders Vow to Stay A...</td>\n",
       "      <td>Common Dreams</td>\n",
       "      <td>Videos #NoDAPL: Native American Leaders Vow to...</td>\n",
       "    </tr>\n",
       "    <tr>\n",
       "      <th>3</th>\n",
       "      <td>20803</td>\n",
       "      <td>Tim Tebow Will Attempt Another Comeback, This ...</td>\n",
       "      <td>Daniel Victor</td>\n",
       "      <td>If at first you don’t succeed, try a different...</td>\n",
       "    </tr>\n",
       "    <tr>\n",
       "      <th>4</th>\n",
       "      <td>20804</td>\n",
       "      <td>Keiser Report: Meme Wars (E995)</td>\n",
       "      <td>Truth Broadcast Network</td>\n",
       "      <td>42 mins ago 1 Views 0 Comments 0 Likes 'For th...</td>\n",
       "    </tr>\n",
       "  </tbody>\n",
       "</table>\n",
       "</div>"
      ],
      "text/plain": [
       "      id                                              title  \\\n",
       "0  20800  Specter of Trump Loosens Tongues, if Not Purse...   \n",
       "1  20801  Russian warships ready to strike terrorists ne...   \n",
       "2  20802  #NoDAPL: Native American Leaders Vow to Stay A...   \n",
       "3  20803  Tim Tebow Will Attempt Another Comeback, This ...   \n",
       "4  20804                    Keiser Report: Meme Wars (E995)   \n",
       "\n",
       "                    author                                               text  \n",
       "0         David Streitfeld  PALO ALTO, Calif.  —   After years of scorning...  \n",
       "1                      NaN  Russian warships ready to strike terrorists ne...  \n",
       "2            Common Dreams  Videos #NoDAPL: Native American Leaders Vow to...  \n",
       "3            Daniel Victor  If at first you don’t succeed, try a different...  \n",
       "4  Truth Broadcast Network  42 mins ago 1 Views 0 Comments 0 Likes 'For th...  "
      ]
     },
     "execution_count": 5,
     "metadata": {},
     "output_type": "execute_result"
    }
   ],
   "source": [
    "test_news.head()"
   ]
  },
  {
   "cell_type": "code",
   "execution_count": 6,
   "id": "deaeaf65",
   "metadata": {},
   "outputs": [
    {
     "data": {
      "text/plain": [
       "(20800, 5)"
      ]
     },
     "execution_count": 6,
     "metadata": {},
     "output_type": "execute_result"
    }
   ],
   "source": [
    "train_news.shape"
   ]
  },
  {
   "cell_type": "code",
   "execution_count": 7,
   "id": "0aa7e7fb",
   "metadata": {},
   "outputs": [
    {
     "data": {
      "text/plain": [
       "(5200, 4)"
      ]
     },
     "execution_count": 7,
     "metadata": {},
     "output_type": "execute_result"
    }
   ],
   "source": [
    "test_news.shape"
   ]
  },
  {
   "cell_type": "code",
   "execution_count": 8,
   "id": "15674db7",
   "metadata": {},
   "outputs": [
    {
     "data": {
      "text/plain": [
       "id           0\n",
       "title      558\n",
       "author    1957\n",
       "text        39\n",
       "label        0\n",
       "dtype: int64"
      ]
     },
     "execution_count": 8,
     "metadata": {},
     "output_type": "execute_result"
    }
   ],
   "source": [
    "train_news.isnull().sum()\n"
   ]
  },
  {
   "cell_type": "code",
   "execution_count": 9,
   "id": "b9a7d6d6",
   "metadata": {},
   "outputs": [
    {
     "data": {
      "text/plain": [
       "id          0\n",
       "title     122\n",
       "author    503\n",
       "text        7\n",
       "dtype: int64"
      ]
     },
     "execution_count": 9,
     "metadata": {},
     "output_type": "execute_result"
    }
   ],
   "source": [
    "test_news.isnull().sum()"
   ]
  },
  {
   "cell_type": "markdown",
   "id": "4f742aed",
   "metadata": {},
   "source": [
    "# Data preprocessing"
   ]
  },
  {
   "cell_type": "markdown",
   "id": "4be4c57c",
   "metadata": {},
   "source": [
    "We only require the text and the label for the train_news while we only require the text in test news.The other columns such as author and title are not necessary. We will also drop rows that have no text."
   ]
  },
  {
   "cell_type": "code",
   "execution_count": 10,
   "id": "ae616120",
   "metadata": {
    "scrolled": true
   },
   "outputs": [
    {
     "name": "stdout",
     "output_type": "stream",
     "text": [
      "<class 'pandas.core.frame.DataFrame'>\n",
      "RangeIndex: 20800 entries, 0 to 20799\n",
      "Data columns (total 5 columns):\n",
      " #   Column  Non-Null Count  Dtype \n",
      "---  ------  --------------  ----- \n",
      " 0   id      20800 non-null  int64 \n",
      " 1   title   20242 non-null  object\n",
      " 2   author  18843 non-null  object\n",
      " 3   text    20761 non-null  object\n",
      " 4   label   20800 non-null  int64 \n",
      "dtypes: int64(2), object(3)\n",
      "memory usage: 812.6+ KB\n"
     ]
    }
   ],
   "source": [
    "train_news.info()"
   ]
  },
  {
   "cell_type": "code",
   "execution_count": 11,
   "id": "c1582e75",
   "metadata": {},
   "outputs": [],
   "source": [
    "train_news=train_news.drop(['id', 'title','author' ], axis=1)\n",
    "train_news=train_news.dropna(how=\"any\")"
   ]
  },
  {
   "cell_type": "code",
   "execution_count": 12,
   "id": "e7090246",
   "metadata": {},
   "outputs": [
    {
     "name": "stdout",
     "output_type": "stream",
     "text": [
      "<class 'pandas.core.frame.DataFrame'>\n",
      "Int64Index: 20761 entries, 0 to 20799\n",
      "Data columns (total 2 columns):\n",
      " #   Column  Non-Null Count  Dtype \n",
      "---  ------  --------------  ----- \n",
      " 0   text    20761 non-null  object\n",
      " 1   label   20761 non-null  int64 \n",
      "dtypes: int64(1), object(1)\n",
      "memory usage: 486.6+ KB\n"
     ]
    }
   ],
   "source": [
    "train_news.info()"
   ]
  },
  {
   "cell_type": "code",
   "execution_count": 13,
   "id": "91fccd31",
   "metadata": {
    "scrolled": true
   },
   "outputs": [
    {
     "data": {
      "text/html": [
       "<div>\n",
       "<style scoped>\n",
       "    .dataframe tbody tr th:only-of-type {\n",
       "        vertical-align: middle;\n",
       "    }\n",
       "\n",
       "    .dataframe tbody tr th {\n",
       "        vertical-align: top;\n",
       "    }\n",
       "\n",
       "    .dataframe thead th {\n",
       "        text-align: right;\n",
       "    }\n",
       "</style>\n",
       "<table border=\"1\" class=\"dataframe\">\n",
       "  <thead>\n",
       "    <tr style=\"text-align: right;\">\n",
       "      <th></th>\n",
       "      <th>text</th>\n",
       "      <th>label</th>\n",
       "    </tr>\n",
       "  </thead>\n",
       "  <tbody>\n",
       "    <tr>\n",
       "      <th>0</th>\n",
       "      <td>House Dem Aide: We Didn’t Even See Comey’s Let...</td>\n",
       "      <td>1</td>\n",
       "    </tr>\n",
       "    <tr>\n",
       "      <th>1</th>\n",
       "      <td>Ever get the feeling your life circles the rou...</td>\n",
       "      <td>0</td>\n",
       "    </tr>\n",
       "    <tr>\n",
       "      <th>2</th>\n",
       "      <td>Why the Truth Might Get You Fired October 29, ...</td>\n",
       "      <td>1</td>\n",
       "    </tr>\n",
       "    <tr>\n",
       "      <th>3</th>\n",
       "      <td>Videos 15 Civilians Killed In Single US Airstr...</td>\n",
       "      <td>1</td>\n",
       "    </tr>\n",
       "    <tr>\n",
       "      <th>4</th>\n",
       "      <td>Print \\nAn Iranian woman has been sentenced to...</td>\n",
       "      <td>1</td>\n",
       "    </tr>\n",
       "  </tbody>\n",
       "</table>\n",
       "</div>"
      ],
      "text/plain": [
       "                                                text  label\n",
       "0  House Dem Aide: We Didn’t Even See Comey’s Let...      1\n",
       "1  Ever get the feeling your life circles the rou...      0\n",
       "2  Why the Truth Might Get You Fired October 29, ...      1\n",
       "3  Videos 15 Civilians Killed In Single US Airstr...      1\n",
       "4  Print \\nAn Iranian woman has been sentenced to...      1"
      ]
     },
     "execution_count": 13,
     "metadata": {},
     "output_type": "execute_result"
    }
   ],
   "source": [
    "train_news.head()"
   ]
  },
  {
   "cell_type": "code",
   "execution_count": 14,
   "id": "293216e6",
   "metadata": {
    "scrolled": true
   },
   "outputs": [
    {
     "name": "stdout",
     "output_type": "stream",
     "text": [
      "<class 'pandas.core.frame.DataFrame'>\n",
      "RangeIndex: 5200 entries, 0 to 5199\n",
      "Data columns (total 4 columns):\n",
      " #   Column  Non-Null Count  Dtype \n",
      "---  ------  --------------  ----- \n",
      " 0   id      5200 non-null   int64 \n",
      " 1   title   5078 non-null   object\n",
      " 2   author  4697 non-null   object\n",
      " 3   text    5193 non-null   object\n",
      "dtypes: int64(1), object(3)\n",
      "memory usage: 162.6+ KB\n"
     ]
    }
   ],
   "source": [
    "test_news.info()"
   ]
  },
  {
   "cell_type": "code",
   "execution_count": 15,
   "id": "439c48dc",
   "metadata": {},
   "outputs": [],
   "source": [
    "test_news=test_news.drop(['id', 'title','author' ], axis=1)\n",
    "test_news=test_news.dropna(how=\"any\")"
   ]
  },
  {
   "cell_type": "code",
   "execution_count": 16,
   "id": "0dff9ea4",
   "metadata": {},
   "outputs": [
    {
     "name": "stdout",
     "output_type": "stream",
     "text": [
      "<class 'pandas.core.frame.DataFrame'>\n",
      "Int64Index: 5193 entries, 0 to 5199\n",
      "Data columns (total 1 columns):\n",
      " #   Column  Non-Null Count  Dtype \n",
      "---  ------  --------------  ----- \n",
      " 0   text    5193 non-null   object\n",
      "dtypes: object(1)\n",
      "memory usage: 81.1+ KB\n"
     ]
    }
   ],
   "source": [
    "test_news.info()"
   ]
  },
  {
   "cell_type": "code",
   "execution_count": 17,
   "id": "734d78af",
   "metadata": {},
   "outputs": [
    {
     "data": {
      "text/html": [
       "<div>\n",
       "<style scoped>\n",
       "    .dataframe tbody tr th:only-of-type {\n",
       "        vertical-align: middle;\n",
       "    }\n",
       "\n",
       "    .dataframe tbody tr th {\n",
       "        vertical-align: top;\n",
       "    }\n",
       "\n",
       "    .dataframe thead th {\n",
       "        text-align: right;\n",
       "    }\n",
       "</style>\n",
       "<table border=\"1\" class=\"dataframe\">\n",
       "  <thead>\n",
       "    <tr style=\"text-align: right;\">\n",
       "      <th></th>\n",
       "      <th>text</th>\n",
       "    </tr>\n",
       "  </thead>\n",
       "  <tbody>\n",
       "    <tr>\n",
       "      <th>0</th>\n",
       "      <td>PALO ALTO, Calif.  —   After years of scorning...</td>\n",
       "    </tr>\n",
       "    <tr>\n",
       "      <th>1</th>\n",
       "      <td>Russian warships ready to strike terrorists ne...</td>\n",
       "    </tr>\n",
       "    <tr>\n",
       "      <th>2</th>\n",
       "      <td>Videos #NoDAPL: Native American Leaders Vow to...</td>\n",
       "    </tr>\n",
       "    <tr>\n",
       "      <th>3</th>\n",
       "      <td>If at first you don’t succeed, try a different...</td>\n",
       "    </tr>\n",
       "    <tr>\n",
       "      <th>4</th>\n",
       "      <td>42 mins ago 1 Views 0 Comments 0 Likes 'For th...</td>\n",
       "    </tr>\n",
       "  </tbody>\n",
       "</table>\n",
       "</div>"
      ],
      "text/plain": [
       "                                                text\n",
       "0  PALO ALTO, Calif.  —   After years of scorning...\n",
       "1  Russian warships ready to strike terrorists ne...\n",
       "2  Videos #NoDAPL: Native American Leaders Vow to...\n",
       "3  If at first you don’t succeed, try a different...\n",
       "4  42 mins ago 1 Views 0 Comments 0 Likes 'For th..."
      ]
     },
     "execution_count": 17,
     "metadata": {},
     "output_type": "execute_result"
    }
   ],
   "source": [
    "test_news.head()"
   ]
  },
  {
   "cell_type": "markdown",
   "id": "560f9035",
   "metadata": {},
   "source": [
    "# Stemming"
   ]
  },
  {
   "cell_type": "markdown",
   "id": "d47c47b1",
   "metadata": {},
   "source": [
    "Stemming is the process of reducing a word to its Root word\n",
    "\n",
    "example: actor, actress, acting --> act"
   ]
  },
  {
   "cell_type": "code",
   "execution_count": 18,
   "id": "207269cd",
   "metadata": {},
   "outputs": [],
   "source": [
    "from nltk.stem.porter import PorterStemmer"
   ]
  },
  {
   "cell_type": "code",
   "execution_count": 19,
   "id": "c1e9aba1",
   "metadata": {},
   "outputs": [],
   "source": [
    "port_stem=PorterStemmer()"
   ]
  },
  {
   "cell_type": "code",
   "execution_count": 20,
   "id": "c2cb9e65",
   "metadata": {},
   "outputs": [
    {
     "data": {
      "text/plain": [
       "<PorterStemmer>"
      ]
     },
     "execution_count": 20,
     "metadata": {},
     "output_type": "execute_result"
    }
   ],
   "source": [
    "port_stem"
   ]
  },
  {
   "cell_type": "code",
   "execution_count": 21,
   "id": "48e60e87",
   "metadata": {},
   "outputs": [
    {
     "data": {
      "text/plain": [
       "'hi this is ng ching chieh * % %@@@'"
      ]
     },
     "execution_count": 21,
     "metadata": {},
     "output_type": "execute_result"
    }
   ],
   "source": [
    "port_stem.stem(\"Hi thIs is ng ching chieh * % %@@@\")"
   ]
  },
  {
   "cell_type": "markdown",
   "id": "5ae337c0",
   "metadata": {},
   "source": [
    "# Stopwords"
   ]
  },
  {
   "cell_type": "markdown",
   "id": "30c9dc03",
   "metadata": {},
   "source": [
    "Stopwords are those words which dosen't add much value to a paragraph or text can be the words such as (the, a , you , where, what ,when, etc...) . These stopwords will be removed."
   ]
  },
  {
   "cell_type": "code",
   "execution_count": 22,
   "id": "94fdcb17",
   "metadata": {},
   "outputs": [],
   "source": [
    "from nltk.corpus import stopwords"
   ]
  },
  {
   "cell_type": "code",
   "execution_count": 23,
   "id": "ff2937fd",
   "metadata": {},
   "outputs": [],
   "source": [
    "import re"
   ]
  },
  {
   "cell_type": "code",
   "execution_count": 24,
   "id": "c87f2017",
   "metadata": {},
   "outputs": [],
   "source": [
    "def stemming(news):\n",
    "    stemmed_news = re.sub('^a-zA-Z', ' ', news)\n",
    "    stemmed_news = stemmed_news.lower()\n",
    "    stemmed_news = stemmed_news.split()\n",
    "    stemmed_news = [port_stem.stem(word) for word in stemmed_news if not word in stopwords.words('english')]\n",
    "    stemmed_news = ' '.join(stemmed_news)\n",
    "    return stemmed_news"
   ]
  },
  {
   "cell_type": "code",
   "execution_count": 25,
   "id": "ac15d73b",
   "metadata": {},
   "outputs": [],
   "source": [
    "train_news['text'] = train_news['text'].apply(stemming)\n",
    "test_news['text'] = test_news['text'].apply(stemming)"
   ]
  },
  {
   "cell_type": "code",
   "execution_count": 26,
   "id": "3367a8a3",
   "metadata": {},
   "outputs": [
    {
     "data": {
      "text/html": [
       "<div>\n",
       "<style scoped>\n",
       "    .dataframe tbody tr th:only-of-type {\n",
       "        vertical-align: middle;\n",
       "    }\n",
       "\n",
       "    .dataframe tbody tr th {\n",
       "        vertical-align: top;\n",
       "    }\n",
       "\n",
       "    .dataframe thead th {\n",
       "        text-align: right;\n",
       "    }\n",
       "</style>\n",
       "<table border=\"1\" class=\"dataframe\">\n",
       "  <thead>\n",
       "    <tr style=\"text-align: right;\">\n",
       "      <th></th>\n",
       "      <th>text</th>\n",
       "      <th>label</th>\n",
       "    </tr>\n",
       "  </thead>\n",
       "  <tbody>\n",
       "    <tr>\n",
       "      <th>0</th>\n",
       "      <td>hous dem aide: didn’t even see comey’ letter j...</td>\n",
       "      <td>1</td>\n",
       "    </tr>\n",
       "    <tr>\n",
       "      <th>1</th>\n",
       "      <td>ever get feel life circl roundabout rather hea...</td>\n",
       "      <td>0</td>\n",
       "    </tr>\n",
       "    <tr>\n",
       "      <th>2</th>\n",
       "      <td>truth might get fire octob 29, 2016 tension in...</td>\n",
       "      <td>1</td>\n",
       "    </tr>\n",
       "    <tr>\n",
       "      <th>3</th>\n",
       "      <td>video 15 civilian kill singl us airstrik ident...</td>\n",
       "      <td>1</td>\n",
       "    </tr>\n",
       "    <tr>\n",
       "      <th>4</th>\n",
       "      <td>print iranian woman sentenc six year prison ir...</td>\n",
       "      <td>1</td>\n",
       "    </tr>\n",
       "  </tbody>\n",
       "</table>\n",
       "</div>"
      ],
      "text/plain": [
       "                                                text  label\n",
       "0  hous dem aide: didn’t even see comey’ letter j...      1\n",
       "1  ever get feel life circl roundabout rather hea...      0\n",
       "2  truth might get fire octob 29, 2016 tension in...      1\n",
       "3  video 15 civilian kill singl us airstrik ident...      1\n",
       "4  print iranian woman sentenc six year prison ir...      1"
      ]
     },
     "execution_count": 26,
     "metadata": {},
     "output_type": "execute_result"
    }
   ],
   "source": [
    "train_news.head()"
   ]
  },
  {
   "cell_type": "code",
   "execution_count": 27,
   "id": "f4a9edee",
   "metadata": {},
   "outputs": [
    {
     "data": {
      "text/html": [
       "<div>\n",
       "<style scoped>\n",
       "    .dataframe tbody tr th:only-of-type {\n",
       "        vertical-align: middle;\n",
       "    }\n",
       "\n",
       "    .dataframe tbody tr th {\n",
       "        vertical-align: top;\n",
       "    }\n",
       "\n",
       "    .dataframe thead th {\n",
       "        text-align: right;\n",
       "    }\n",
       "</style>\n",
       "<table border=\"1\" class=\"dataframe\">\n",
       "  <thead>\n",
       "    <tr style=\"text-align: right;\">\n",
       "      <th></th>\n",
       "      <th>text</th>\n",
       "    </tr>\n",
       "  </thead>\n",
       "  <tbody>\n",
       "    <tr>\n",
       "      <th>0</th>\n",
       "      <td>palo alto, calif. — year scorn polit process, ...</td>\n",
       "    </tr>\n",
       "    <tr>\n",
       "      <th>1</th>\n",
       "      <td>russian warship readi strike terrorist near al...</td>\n",
       "    </tr>\n",
       "    <tr>\n",
       "      <th>2</th>\n",
       "      <td>video #nodapl: nativ american leader vow stay ...</td>\n",
       "    </tr>\n",
       "    <tr>\n",
       "      <th>3</th>\n",
       "      <td>first don’t succeed, tri differ sport. tim teb...</td>\n",
       "    </tr>\n",
       "    <tr>\n",
       "      <th>4</th>\n",
       "      <td>42 min ago 1 view 0 comment 0 like 'for first ...</td>\n",
       "    </tr>\n",
       "  </tbody>\n",
       "</table>\n",
       "</div>"
      ],
      "text/plain": [
       "                                                text\n",
       "0  palo alto, calif. — year scorn polit process, ...\n",
       "1  russian warship readi strike terrorist near al...\n",
       "2  video #nodapl: nativ american leader vow stay ...\n",
       "3  first don’t succeed, tri differ sport. tim teb...\n",
       "4  42 min ago 1 view 0 comment 0 like 'for first ..."
      ]
     },
     "execution_count": 27,
     "metadata": {},
     "output_type": "execute_result"
    }
   ],
   "source": [
    "test_news.head()"
   ]
  },
  {
   "cell_type": "code",
   "execution_count": 28,
   "id": "3ce5b154",
   "metadata": {},
   "outputs": [],
   "source": [
    "#separating the data and label\n",
    "X = train_news['text'].values\n",
    "Y = train_news['label'].values"
   ]
  },
  {
   "cell_type": "markdown",
   "id": "0aa0e430",
   "metadata": {},
   "source": [
    "# Spliting the data into training and testing data"
   ]
  },
  {
   "cell_type": "code",
   "execution_count": 29,
   "id": "299dc4a1",
   "metadata": {},
   "outputs": [],
   "source": [
    "from sklearn.model_selection import train_test_split"
   ]
  },
  {
   "cell_type": "code",
   "execution_count": 30,
   "id": "80dfefe2",
   "metadata": {},
   "outputs": [],
   "source": [
    "X_train, X_test, Y_train, Y_test = train_test_split(X, Y, test_size = 0.2)"
   ]
  },
  {
   "cell_type": "markdown",
   "id": "879b71f5",
   "metadata": {},
   "source": [
    "# Converting the Textual Data to Numerical Data"
   ]
  },
  {
   "cell_type": "code",
   "execution_count": 31,
   "id": "ad5a1679",
   "metadata": {},
   "outputs": [],
   "source": [
    "from sklearn.feature_extraction.text import TfidfVectorizer\n",
    "\n"
   ]
  },
  {
   "cell_type": "code",
   "execution_count": 32,
   "id": "e7255f30",
   "metadata": {},
   "outputs": [],
   "source": [
    "vectorization=TfidfVectorizer()\n",
    "xv_train=vectorization.fit_transform(X_train)\n",
    "xv_test=vectorization.transform(X_test)"
   ]
  },
  {
   "cell_type": "markdown",
   "id": "87a1be24",
   "metadata": {},
   "source": [
    "# Training the model"
   ]
  },
  {
   "cell_type": "code",
   "execution_count": 56,
   "id": "7d3e3ca6",
   "metadata": {},
   "outputs": [],
   "source": [
    "from sklearn.metrics import accuracy_score, precision_score, recall_score, f1_score\n",
    "from sklearn.metrics import classification_report\n",
    "from sklearn.metrics import confusion_matrix\n",
    "from sklearn.model_selection import cross_val_score\n",
    "import seaborn as sns\n",
    "import numpy as np\n",
    "from matplotlib import pyplot as plt\n",
    "%matplotlib inline"
   ]
  },
  {
   "cell_type": "code",
   "execution_count": 34,
   "id": "f83c58a6",
   "metadata": {},
   "outputs": [],
   "source": [
    "from sklearn.linear_model import LogisticRegression\n",
    "from sklearn.tree import DecisionTreeClassifier\n",
    "from sklearn.ensemble import RandomForestClassifier\n",
    "from sklearn.ensemble import GradientBoostingClassifier\n",
    "from sklearn.svm import SVC"
   ]
  },
  {
   "cell_type": "code",
   "execution_count": 96,
   "id": "2c7352e3",
   "metadata": {},
   "outputs": [],
   "source": [
    "\n",
    "def kfolds(model, model_name):\n",
    "    model = cross_val_score(model, xv_train,Y_train, cv=5)\n",
    "    model_score = np.average(model)\n",
    "    print(f\"{model_name} score on cross validation: {model_score * 100}%\")\n",
    "    cross_val_dict={\"Model\":model_name,\n",
    "        \"Cross Validation Score\":round(model_score,4)\n",
    "               }\n",
    "    return cross_val_dict\n",
    "\n",
    "def train(model, model_name):\n",
    "    model.fit(xv_train, Y_train)\n",
    "    model_train_score = model.score(xv_train, Y_train)\n",
    "    model_test_score = model.score(xv_test, Y_test)\n",
    "    print(f\"{model_name} model score on Training data: {model_train_score * 100}%\\n{model_name} model score on Testing data: {model_test_score * 100}%\")\n",
    "    \n",
    "def class_report(model):\n",
    "    Y_pred = model.predict(xv_test)\n",
    "    print(classification_report(Y_test, Y_pred))\n",
    "    accuracy = accuracy_score(Y_test, Y_pred)\n",
    "    precision = precision_score(Y_test, Y_pred)\n",
    "    recall = recall_score(Y_test, Y_pred)\n",
    "    f1 = f1_score(Y_test, Y_pred)\n",
    "    \n",
    "    metric_dict={\"accuracy\":round(accuracy,4),\n",
    "                \"precision\":round(precision,4),\n",
    "                \"recall\":round(recall,4),\n",
    "                \"f1\":round(f1,4)}\n",
    "\n",
    "    print(f\"Accuracy:{accuracy*100:.2f}%\")\n",
    "    print(f\"Precision:{precision:.2f}\")\n",
    "    print(f\"Recall:{recall:.2f}\")\n",
    "    print(f\"F1 score:{f1:.2f}\")\n",
    "    \n",
    "    return metric_dict\n",
    "    \n",
    "def conf_matrix(model):\n",
    "    Y_pred = model.predict(xv_test)\n",
    "    cm = confusion_matrix(Y_test, Y_pred)\n",
    "    plt.figure(figsize=(8,5))\n",
    "    sns.heatmap(cm, annot=True, fmt='.2f');"
   ]
  },
  {
   "cell_type": "code",
   "execution_count": 97,
   "id": "f683e1a8",
   "metadata": {},
   "outputs": [
    {
     "name": "stdout",
     "output_type": "stream",
     "text": [
      "Logistic Regression score on cross validation: 94.83983031013669%\n",
      "Logistic Regression model score on Training data: 97.66377649325626%\n",
      "Logistic Regression model score on Testing data: 95.01565133638333%\n"
     ]
    }
   ],
   "source": [
    "LR=LogisticRegression()\n",
    "cross_val_LR=kfolds(LR, \"Logistic Regression\")\n",
    "train(LR,\"Logistic Regression\")"
   ]
  },
  {
   "cell_type": "code",
   "execution_count": 98,
   "id": "98d1b9f0",
   "metadata": {
    "scrolled": true
   },
   "outputs": [
    {
     "data": {
      "text/plain": [
       "{'Model': 'Logistic Regression', 'Cross Validation Score': 0.9484}"
      ]
     },
     "execution_count": 98,
     "metadata": {},
     "output_type": "execute_result"
    }
   ],
   "source": [
    "cross_val_LR"
   ]
  },
  {
   "cell_type": "code",
   "execution_count": 228,
   "id": "8aad0b53",
   "metadata": {},
   "outputs": [
    {
     "data": {
      "image/png": "[encoded data removed]",
      "text/plain": [
       "<Figure size 800x500 with 2 Axes>"
      ]
     },
     "metadata": {},
     "output_type": "display_data"
    }
   ],
   "source": [
    "conf_matrix(LR)"
   ]
  },
  {
   "cell_type": "markdown",
   "id": "de01d30b",
   "metadata": {},
   "source": [
    "Logistic Regression confusion matrix"
   ]
  },
  {
   "cell_type": "code",
   "execution_count": 100,
   "id": "e61b89ec",
   "metadata": {},
   "outputs": [
    {
     "name": "stdout",
     "output_type": "stream",
     "text": [
      "              precision    recall  f1-score   support\n",
      "\n",
      "           0       0.96      0.94      0.95      2084\n",
      "           1       0.94      0.96      0.95      2069\n",
      "\n",
      "    accuracy                           0.95      4153\n",
      "   macro avg       0.95      0.95      0.95      4153\n",
      "weighted avg       0.95      0.95      0.95      4153\n",
      "\n",
      "Accuracy:95.02%\n",
      "Precision:0.94\n",
      "Recall:0.96\n",
      "F1 score:0.95\n"
     ]
    }
   ],
   "source": [
    "LR_metric=class_report(LR)"
   ]
  },
  {
   "cell_type": "code",
   "execution_count": 101,
   "id": "4ac93e3a",
   "metadata": {},
   "outputs": [
    {
     "data": {
      "text/plain": [
       "{'accuracy': 0.9502, 'precision': 0.9408, 'recall': 0.9604, 'f1': 0.9505}"
      ]
     },
     "execution_count": 101,
     "metadata": {},
     "output_type": "execute_result"
    }
   ],
   "source": [
    "LR_metric"
   ]
  },
  {
   "cell_type": "code",
   "execution_count": 102,
   "id": "d6b7c165",
   "metadata": {},
   "outputs": [],
   "source": [
    "LR_results=cross_val_LR|LR_metric"
   ]
  },
  {
   "cell_type": "code",
   "execution_count": 103,
   "id": "edc4660b",
   "metadata": {},
   "outputs": [
    {
     "name": "stdout",
     "output_type": "stream",
     "text": [
      "{'Model': 'Logistic Regression', 'Cross Validation Score': 0.9484, 'accuracy': 0.9502, 'precision': 0.9408, 'recall': 0.9604, 'f1': 0.9505}\n"
     ]
    }
   ],
   "source": [
    "print(LR_results)"
   ]
  },
  {
   "cell_type": "code",
   "execution_count": 104,
   "id": "7f3752d9",
   "metadata": {},
   "outputs": [
    {
     "name": "stdout",
     "output_type": "stream",
     "text": [
      "Decision Tree score on cross validation: 88.12018858699524%\n",
      "Decision Tree model score on Training data: 100.0%\n",
      "Decision Tree model score on Testing data: 87.74379966289429%\n"
     ]
    }
   ],
   "source": [
    "DT=DecisionTreeClassifier()\n",
    "cross_val_DT=kfolds(DT, \"Decision Tree\")\n",
    "train(DT,\"Decision Tree\")"
   ]
  },
  {
   "cell_type": "code",
   "execution_count": 105,
   "id": "ff1b279f",
   "metadata": {},
   "outputs": [
    {
     "data": {
      "text/plain": [
       "{'Model': 'Decision Tree', 'Cross Validation Score': 0.8812}"
      ]
     },
     "execution_count": 105,
     "metadata": {},
     "output_type": "execute_result"
    }
   ],
   "source": [
    "cross_val_DT"
   ]
  },
  {
   "cell_type": "code",
   "execution_count": 106,
   "id": "a150b0f3",
   "metadata": {},
   "outputs": [
    {
     "data": {
      "image/png": "[encoded data removed]",
      "text/plain": [
       "<Figure size 800x500 with 2 Axes>"
      ]
     },
     "metadata": {},
     "output_type": "display_data"
    }
   ],
   "source": [
    "conf_matrix(DT)"
   ]
  },
  {
   "cell_type": "markdown",
   "id": "bf51f895",
   "metadata": {},
   "source": [
    "Decision Tree confusion matrix"
   ]
  },
  {
   "cell_type": "code",
   "execution_count": 107,
   "id": "f298c0e8",
   "metadata": {
    "scrolled": true
   },
   "outputs": [
    {
     "name": "stdout",
     "output_type": "stream",
     "text": [
      "              precision    recall  f1-score   support\n",
      "\n",
      "           0       0.88      0.88      0.88      2084\n",
      "           1       0.88      0.88      0.88      2069\n",
      "\n",
      "    accuracy                           0.88      4153\n",
      "   macro avg       0.88      0.88      0.88      4153\n",
      "weighted avg       0.88      0.88      0.88      4153\n",
      "\n",
      "Accuracy:87.74%\n",
      "Precision:0.88\n",
      "Recall:0.88\n",
      "F1 score:0.88\n"
     ]
    }
   ],
   "source": [
    "DT_metric=class_report(DT)"
   ]
  },
  {
   "cell_type": "code",
   "execution_count": 108,
   "id": "e16546ae",
   "metadata": {},
   "outputs": [
    {
     "data": {
      "text/plain": [
       "{'accuracy': 0.8774, 'precision': 0.8772, 'recall': 0.8768, 'f1': 0.877}"
      ]
     },
     "execution_count": 108,
     "metadata": {},
     "output_type": "execute_result"
    }
   ],
   "source": [
    "DT_metric"
   ]
  },
  {
   "cell_type": "code",
   "execution_count": 109,
   "id": "9c35804c",
   "metadata": {},
   "outputs": [],
   "source": [
    "DT_results=cross_val_DT|DT_metric"
   ]
  },
  {
   "cell_type": "code",
   "execution_count": 110,
   "id": "21b0fc0f",
   "metadata": {},
   "outputs": [
    {
     "name": "stdout",
     "output_type": "stream",
     "text": [
      "{'Model': 'Decision Tree', 'Cross Validation Score': 0.8812, 'accuracy': 0.8774, 'precision': 0.8772, 'recall': 0.8768, 'f1': 0.877}\n"
     ]
    }
   ],
   "source": [
    "print(DT_results)"
   ]
  },
  {
   "cell_type": "code",
   "execution_count": 111,
   "id": "3d45c373",
   "metadata": {
    "scrolled": true
   },
   "outputs": [
    {
     "name": "stdout",
     "output_type": "stream",
     "text": [
      "Random Forest score on cross validation: 91.5282547835178%\n",
      "Random Forest model score on Training data: 100.0%\n",
      "Random Forest model score on Testing data: 91.45196243679268%\n"
     ]
    }
   ],
   "source": [
    "RF=RandomForestClassifier()\n",
    "cross_val_RF=kfolds(RF, \"Random Forest\")\n",
    "train(RF,\"Random Forest\")"
   ]
  },
  {
   "cell_type": "code",
   "execution_count": 112,
   "id": "4aaca1a9",
   "metadata": {},
   "outputs": [
    {
     "data": {
      "text/plain": [
       "{'Model': 'Random Forest', 'Cross Validation Score': 0.9153}"
      ]
     },
     "execution_count": 112,
     "metadata": {},
     "output_type": "execute_result"
    }
   ],
   "source": [
    "cross_val_RF"
   ]
  },
  {
   "cell_type": "code",
   "execution_count": 113,
   "id": "a00a6981",
   "metadata": {},
   "outputs": [
    {
     "data": {
      "image/png": "[encoded data removed]",
      "text/plain": [
       "<Figure size 800x500 with 2 Axes>"
      ]
     },
     "metadata": {},
     "output_type": "display_data"
    }
   ],
   "source": [
    "conf_matrix(RF)"
   ]
  },
  {
   "cell_type": "markdown",
   "id": "83888e0c",
   "metadata": {},
   "source": [
    "Random Forest confusion matrix"
   ]
  },
  {
   "cell_type": "code",
   "execution_count": 114,
   "id": "9e599791",
   "metadata": {},
   "outputs": [
    {
     "name": "stdout",
     "output_type": "stream",
     "text": [
      "              precision    recall  f1-score   support\n",
      "\n",
      "           0       0.90      0.94      0.92      2084\n",
      "           1       0.94      0.89      0.91      2069\n",
      "\n",
      "    accuracy                           0.91      4153\n",
      "   macro avg       0.92      0.91      0.91      4153\n",
      "weighted avg       0.92      0.91      0.91      4153\n",
      "\n",
      "Accuracy:91.45%\n",
      "Precision:0.94\n",
      "Recall:0.89\n",
      "F1 score:0.91\n"
     ]
    }
   ],
   "source": [
    "RF_metric=class_report(RF)"
   ]
  },
  {
   "cell_type": "code",
   "execution_count": 115,
   "id": "91ae1bb9",
   "metadata": {},
   "outputs": [
    {
     "data": {
      "text/plain": [
       "{'accuracy': 0.9145, 'precision': 0.9359, 'recall': 0.8893, 'f1': 0.912}"
      ]
     },
     "execution_count": 115,
     "metadata": {},
     "output_type": "execute_result"
    }
   ],
   "source": [
    "RF_metric"
   ]
  },
  {
   "cell_type": "code",
   "execution_count": 116,
   "id": "da751999",
   "metadata": {},
   "outputs": [],
   "source": [
    "RF_results=cross_val_RF|RF_metric"
   ]
  },
  {
   "cell_type": "code",
   "execution_count": 117,
   "id": "71444e76",
   "metadata": {},
   "outputs": [
    {
     "name": "stdout",
     "output_type": "stream",
     "text": [
      "{'Model': 'Random Forest', 'Cross Validation Score': 0.9153, 'accuracy': 0.9145, 'precision': 0.9359, 'recall': 0.8893, 'f1': 0.912}\n"
     ]
    }
   ],
   "source": [
    "print(RF_results)"
   ]
  },
  {
   "cell_type": "code",
   "execution_count": 118,
   "id": "16e96f8a",
   "metadata": {},
   "outputs": [
    {
     "name": "stdout",
     "output_type": "stream",
     "text": [
      "Gradient Boosting score on cross validation: 93.18997146757874%\n",
      "Gradient Boosting model score on Training data: 94.36416184971098%\n",
      "Gradient Boosting model score on Testing data: 92.41512159884421%\n"
     ]
    }
   ],
   "source": [
    "GB=GradientBoostingClassifier()\n",
    "cross_val_GB=kfolds(GB, \"Gradient Boosting\")\n",
    "train(GB,\"Gradient Boosting\")"
   ]
  },
  {
   "cell_type": "code",
   "execution_count": 119,
   "id": "442c8f4b",
   "metadata": {},
   "outputs": [
    {
     "data": {
      "text/plain": [
       "{'Model': 'Gradient Boosting', 'Cross Validation Score': 0.9319}"
      ]
     },
     "execution_count": 119,
     "metadata": {},
     "output_type": "execute_result"
    }
   ],
   "source": [
    "cross_val_GB"
   ]
  },
  {
   "cell_type": "code",
   "execution_count": 120,
   "id": "1533f294",
   "metadata": {},
   "outputs": [
    {
     "data": {
      "image/png": "[encoded data removed]",
      "text/plain": [
       "<Figure size 800x500 with 2 Axes>"
      ]
     },
     "metadata": {},
     "output_type": "display_data"
    }
   ],
   "source": [
    "conf_matrix(GB)"
   ]
  },
  {
   "cell_type": "markdown",
   "id": "a88d0dea",
   "metadata": {},
   "source": [
    "Gradient Boosting Confusion matrix"
   ]
  },
  {
   "cell_type": "code",
   "execution_count": 121,
   "id": "5635006c",
   "metadata": {},
   "outputs": [
    {
     "name": "stdout",
     "output_type": "stream",
     "text": [
      "              precision    recall  f1-score   support\n",
      "\n",
      "           0       0.93      0.91      0.92      2084\n",
      "           1       0.92      0.93      0.92      2069\n",
      "\n",
      "    accuracy                           0.92      4153\n",
      "   macro avg       0.92      0.92      0.92      4153\n",
      "weighted avg       0.92      0.92      0.92      4153\n",
      "\n",
      "Accuracy:92.42%\n",
      "Precision:0.92\n",
      "Recall:0.93\n",
      "F1 score:0.92\n"
     ]
    }
   ],
   "source": [
    "GB_metric=class_report(GB)"
   ]
  },
  {
   "cell_type": "code",
   "execution_count": 122,
   "id": "7ff48932",
   "metadata": {},
   "outputs": [
    {
     "data": {
      "text/plain": [
       "{'accuracy': 0.9242, 'precision': 0.9156, 'recall': 0.9338, 'f1': 0.9246}"
      ]
     },
     "execution_count": 122,
     "metadata": {},
     "output_type": "execute_result"
    }
   ],
   "source": [
    "GB_metric"
   ]
  },
  {
   "cell_type": "code",
   "execution_count": 123,
   "id": "8af76245",
   "metadata": {},
   "outputs": [],
   "source": [
    "GB_results=cross_val_GB|GB_metric"
   ]
  },
  {
   "cell_type": "code",
   "execution_count": 124,
   "id": "90cdacc9",
   "metadata": {},
   "outputs": [
    {
     "name": "stdout",
     "output_type": "stream",
     "text": [
      "{'Model': 'Gradient Boosting', 'Cross Validation Score': 0.9319, 'accuracy': 0.9242, 'precision': 0.9156, 'recall': 0.9338, 'f1': 0.9246}\n"
     ]
    }
   ],
   "source": [
    "print(GB_results)"
   ]
  },
  {
   "cell_type": "code",
   "execution_count": 125,
   "id": "c601aacc",
   "metadata": {},
   "outputs": [
    {
     "name": "stdout",
     "output_type": "stream",
     "text": [
      "Support Vector Machine score on cross validation: 87.27723038819792%\n",
      "Support Vector Machine model score on Training data: 89.92654142581888%\n",
      "Support Vector Machine model score on Testing data: 89.16445942692029%\n"
     ]
    }
   ],
   "source": [
    "SVCM=SVC(kernel=\"linear\",C=0.025)\n",
    "cross_val_SVCM=kfolds(SVCM, \"Support Vector Machine\")\n",
    "train(SVCM,\"Support Vector Machine\")"
   ]
  },
  {
   "cell_type": "code",
   "execution_count": 126,
   "id": "522fab29",
   "metadata": {},
   "outputs": [
    {
     "data": {
      "text/plain": [
       "{'Model': 'Support Vector Machine', 'Cross Validation Score': 0.8728}"
      ]
     },
     "execution_count": 126,
     "metadata": {},
     "output_type": "execute_result"
    }
   ],
   "source": [
    "cross_val_SVCM"
   ]
  },
  {
   "cell_type": "code",
   "execution_count": 127,
   "id": "b58a2bbe",
   "metadata": {},
   "outputs": [
    {
     "data": {
      "image/png": "[encoded data removed]",
      "text/plain": [
       "<Figure size 800x500 with 2 Axes>"
      ]
     },
     "metadata": {},
     "output_type": "display_data"
    }
   ],
   "source": [
    "conf_matrix(SVCM)"
   ]
  },
  {
   "cell_type": "markdown",
   "id": "b0cb70e7",
   "metadata": {},
   "source": [
    "Support Vector Machines confusion matrix"
   ]
  },
  {
   "cell_type": "code",
   "execution_count": 128,
   "id": "ca804fb2",
   "metadata": {
    "scrolled": true
   },
   "outputs": [
    {
     "name": "stdout",
     "output_type": "stream",
     "text": [
      "              precision    recall  f1-score   support\n",
      "\n",
      "           0       0.96      0.82      0.88      2084\n",
      "           1       0.84      0.97      0.90      2069\n",
      "\n",
      "    accuracy                           0.89      4153\n",
      "   macro avg       0.90      0.89      0.89      4153\n",
      "weighted avg       0.90      0.89      0.89      4153\n",
      "\n",
      "Accuracy:89.16%\n",
      "Precision:0.84\n",
      "Recall:0.97\n",
      "F1 score:0.90\n"
     ]
    }
   ],
   "source": [
    "SVCM_metric=class_report(SVCM)"
   ]
  },
  {
   "cell_type": "code",
   "execution_count": 129,
   "id": "604d1587",
   "metadata": {},
   "outputs": [
    {
     "data": {
      "text/plain": [
       "{'accuracy': 0.8916, 'precision': 0.84, 'recall': 0.9667, 'f1': 0.8989}"
      ]
     },
     "execution_count": 129,
     "metadata": {},
     "output_type": "execute_result"
    }
   ],
   "source": [
    "SVCM_metric"
   ]
  },
  {
   "cell_type": "code",
   "execution_count": 130,
   "id": "fbd41624",
   "metadata": {},
   "outputs": [],
   "source": [
    "SVCM_results=cross_val_SVCM|SVCM_metric"
   ]
  },
  {
   "cell_type": "code",
   "execution_count": 131,
   "id": "98e1f4d6",
   "metadata": {},
   "outputs": [
    {
     "name": "stdout",
     "output_type": "stream",
     "text": [
      "{'Model': 'Support Vector Machine', 'Cross Validation Score': 0.8728, 'accuracy': 0.8916, 'precision': 0.84, 'recall': 0.9667, 'f1': 0.8989}\n"
     ]
    }
   ],
   "source": [
    "print(SVCM_results)"
   ]
  },
  {
   "cell_type": "code",
   "execution_count": 132,
   "id": "4b166ddb",
   "metadata": {},
   "outputs": [
    {
     "name": "stdout",
     "output_type": "stream",
     "text": [
      "stack_model score on cross validation: 95.31549816802602%\n",
      "stack_model model score on Training data: 99.38583815028902%\n",
      "stack_model model score on Testing data: 95.16012521069108%\n"
     ]
    }
   ],
   "source": [
    "from sklearn.ensemble import StackingClassifier\n",
    "from sklearn.naive_bayes import GaussianNB\n",
    "\n",
    "estimator_list = [\n",
    "    ('LR',LR),\n",
    "    ('DT',DT),\n",
    "    ('RF',RF),\n",
    "    ('GB',GB),\n",
    "    ('SVCM',SVCM) ]\n",
    "\n",
    "# Build stack model\n",
    "stack_model = StackingClassifier(\n",
    "    estimators=estimator_list, final_estimator=GaussianNB()\n",
    ")\n",
    "\n",
    "cross_val_stack_model=kfolds(stack_model, \"stack_model\")\n",
    "train(stack_model,\"stack_model\")"
   ]
  },
  {
   "cell_type": "code",
   "execution_count": 133,
   "id": "11b72166",
   "metadata": {},
   "outputs": [
    {
     "data": {
      "text/plain": [
       "{'Model': 'stack_model', 'Cross Validation Score': 0.9532}"
      ]
     },
     "execution_count": 133,
     "metadata": {},
     "output_type": "execute_result"
    }
   ],
   "source": [
    "cross_val_stack_model"
   ]
  },
  {
   "cell_type": "code",
   "execution_count": 134,
   "id": "7f9744fa",
   "metadata": {},
   "outputs": [
    {
     "data": {
      "image/png": "[encoded data removed]",
      "text/plain": [
       "<Figure size 800x500 with 2 Axes>"
      ]
     },
     "metadata": {},
     "output_type": "display_data"
    }
   ],
   "source": [
    "conf_matrix(stack_model)"
   ]
  },
  {
   "cell_type": "markdown",
   "id": "f46c4930",
   "metadata": {},
   "source": [
    "Stack Model confusion matrix"
   ]
  },
  {
   "cell_type": "code",
   "execution_count": 135,
   "id": "14e98942",
   "metadata": {},
   "outputs": [
    {
     "name": "stdout",
     "output_type": "stream",
     "text": [
      "              precision    recall  f1-score   support\n",
      "\n",
      "           0       0.95      0.95      0.95      2084\n",
      "           1       0.95      0.95      0.95      2069\n",
      "\n",
      "    accuracy                           0.95      4153\n",
      "   macro avg       0.95      0.95      0.95      4153\n",
      "weighted avg       0.95      0.95      0.95      4153\n",
      "\n",
      "Accuracy:95.16%\n",
      "Precision:0.95\n",
      "Recall:0.95\n",
      "F1 score:0.95\n"
     ]
    }
   ],
   "source": [
    "stack_model_metric=class_report(stack_model)"
   ]
  },
  {
   "cell_type": "code",
   "execution_count": 136,
   "id": "e3b4e332",
   "metadata": {},
   "outputs": [
    {
     "data": {
      "text/plain": [
       "{'accuracy': 0.9516, 'precision': 0.9495, 'recall': 0.9536, 'f1': 0.9515}"
      ]
     },
     "execution_count": 136,
     "metadata": {},
     "output_type": "execute_result"
    }
   ],
   "source": [
    "stack_model_metric"
   ]
  },
  {
   "cell_type": "code",
   "execution_count": 137,
   "id": "1ef222f6",
   "metadata": {},
   "outputs": [],
   "source": [
    "stack_model_results=cross_val_stack_model|stack_model_metric"
   ]
  },
  {
   "cell_type": "code",
   "execution_count": 138,
   "id": "ba776570",
   "metadata": {},
   "outputs": [
    {
     "name": "stdout",
     "output_type": "stream",
     "text": [
      "{'Model': 'stack_model', 'Cross Validation Score': 0.9532, 'accuracy': 0.9516, 'precision': 0.9495, 'recall': 0.9536, 'f1': 0.9515}\n"
     ]
    }
   ],
   "source": [
    "print(stack_model_results)"
   ]
  },
  {
   "cell_type": "markdown",
   "id": "6d32f730",
   "metadata": {},
   "source": [
    "# Manual testing "
   ]
  },
  {
   "cell_type": "code",
   "execution_count": 139,
   "id": "fdd16c5b",
   "metadata": {},
   "outputs": [],
   "source": [
    "def output_label(n):\n",
    "    if n == 0:\n",
    "        return \"Fake News\"\n",
    "    elif n == 1:\n",
    "        return \"Not A Fake News\"\n",
    "    \n",
    "def manual_testing(news):\n",
    "    testing_news = {\"text\":[news]}\n",
    "    new_def_test = pd.DataFrame(testing_news)\n",
    "    new_def_test[\"text\"] = new_def_test[\"text\"].apply(stemming) \n",
    "    new_x_test = new_def_test[\"text\"]\n",
    "    new_xv_test = vectorization.transform(new_x_test)\n",
    "    pred_LR = LR.predict(new_xv_test)\n",
    "    pred_DT = DT.predict(new_xv_test)\n",
    "    pred_RF = RF.predict(new_xv_test)\n",
    "    pred_GB = GB.predict(new_xv_test)\n",
    "    pred_SVCM = SVCM.predict(new_xv_test)\n",
    "    pred_stack_model = stack_model.predict(new_xv_test)\n",
    "\n",
    "    return print(\"\\n\\nLR Prediction: {} \\nDT Prediction:{} \\nRF Prediction: {} \\nGB Prediction: {} \\nSVCM Prediction: {}\\nstack_model Prediction: {}\".format(output_label(pred_LR[0]),output_label(pred_DT[0]), \n",
    "                                                                                                              output_label(pred_RF[0]), \n",
    "                                                                                                              output_label(pred_GB[0]),\n",
    "                                                                                                              output_label(pred_SVCM[0]),\n",
    "                                                                                                              output_label(pred_stack_model[0])))"
   ]
  },
  {
   "cell_type": "markdown",
   "id": "30521d80",
   "metadata": {},
   "source": [
    "This will be 10 iterations will be testing on the first 10 rows of test.csv. "
   ]
  },
  {
   "cell_type": "code",
   "execution_count": 140,
   "id": "67257e19",
   "metadata": {},
   "outputs": [
    {
     "name": "stdout",
     "output_type": "stream",
     "text": [
      "PALO ALTO, Calif.  —   After years of scorning the political process, Silicon Valley has leapt into the fray. The prospect of a President Donald J. Trump is pushing the tech community to move beyond its traditional role as donors and to embrace a new existence as agitators and activists. A distinguished venture capital firm emblazoned on its corporate home page an earthy   epithet. One prominent tech chieftain says the consequences of Mr. Trump’s election would “range between disastrous and terrible. ” Another compares him to a dictator. And nearly 150 tech leaders signed an open letter decrying Mr. Trump and his campaign of “anger” and “bigotry. ” Not quite all the action is  . Peter Thiel, a founder of PayPal and Palantir who was the first outside investor in Facebook, spoke at the Republican convention in July. The New York Times reported on Saturday that Mr. Thiel is giving $1. 25 million to support Mr. Trump’s candidacy even as other supporters flee. (He also recently gave $1 million to a “super PAC” that supports Senator Rob Portman, the Republican freshman running for   in Ohio.) Getting involved in politics used to be seen as clashing with Silicon Valley’s value system: You transform the world by making problems obsolete, not solving them through Washington. Nor did entrepreneurs want to alienate whatever segment of customers did not agree with them politically. Such reticence is no longer in style here. “We’re a bunch of nerds not used to having a lot of limelight,” said Dave McClure, an investor who runs a tech incubator called 500 Startups. “But to quote   ‘With great power comes great responsibility. ’” Mr. McClure grew worried after the Republican and Democratic conventions as Mr. Trump began to catch up to Hillary Clinton in the polls. He wanted Silicon Valley to do more, and so late last month he announced Nerdz4Hillary, an informal   effort. An initial group of donors pledged $50, 000 the goal was to ask the “nerdz” for small donations to match that sum. They have not come through yet. “We’re kind of optimistic we’ll get the other $50, 000 in a few weeks,” Mr. McClure said. That relatively slow pace reflects Silicon Valley’s shifting position: Even as it becomes increasingly free with its opinions, it has been less free with its checkbook. The most recent data, from late August, shows Mrs. Clinton taking in $7. 7 million from the tech community, according to Crowdpac, a   that tracks donations. By that point in 2012, Crowdpac says, President Obama had raised $21 million from entrepreneurs and venture capitalists. Reid Hoffman, the billionaire   of the business networking site LinkedIn, offers a snapshot of Silicon Valley’s evolving approach to politics. Mr. Hoffman was a top Obama donor, giving $1 million to the Priorities USA political action committee, something several of his peers did as well. Last month, Mr. Hoffman garnered worldwide publicity for saying he would donate up to $5 million to veterans’ groups if Mr. Trump released his taxes, a remote possibility that never came to pass. He has castigated Mr. Trump in interviews, saying he was speaking for those who were afraid. Mr. Hoffman’s outright donations, however, have been smaller this election cycle. In May, he gave $400, 000 to the Hillary Victory Fund. Asked if there was more recent giving that had not shown up in federal election records, Mr. Hoffman cryptically responded in an email, “Looking at some PACs, etc. ” He declined several opportunities to elaborate. Even as Priorities USA has raised $133 million this election cycle, far exceeding its total in 2012, its tech contributions have dwindled. The only familiar tech name this time around is John Doerr of the venture capital firm Kleiner Perkins Caufield  Byers, who gave $500, 000. The AOL   Steve Case said his September endorsement of Mrs. Clinton, via an   in The Washington Post, was the first time he ever publicly declared for a candidate. “I always focused on policy and avoided politics,” he said. “But if Trump were elected president, I would be disappointed in myself for not acting. ” When he wrote the   he was uncertain about donating money to Mrs. Clinton, saying only that it was “probable. ” A spokeswoman said Sunday that Mr. Case gave $25, 000 to the Hillary Victory Fund. Mason Harrison, Crowdpac’s head of communications, offered a possible reason for Mrs. Clinton’s    support. “Donors give to support candidates they love, not to defeat candidates they fear,” he said. A few billionaires are acting instead of talking. Dustin Moskovitz, a founder of Facebook, said he was giving $20 million to various Democratic election efforts  —   the first time he and his wife, Cari Tuna, have endorsed a candidate. He declined to be interviewed. Part of the problem for Mrs. Clinton is that, however preferable she may be to Mr. Trump in the tech community, she pales in comparison to President Obama. After some initial misgivings, Silicon Valley found its champion in him. There has been a revolving door between tech and the Obama administration, just as previous Democratic administrations had a revolving door with Wall Street. In June, President Obama seemed to suggest that he might become a venture capitalist after his term ends. Mrs. Clinton is not as enthusiastic toward Silicon Valley and its disruptive ways. In a speech in the summer of 2015, she noted that   in the “  or   gig economy”  —   Uber, Airbnb and their ilk  —   were “unleashing innovation” but also “raising hard questions about workplace protection and what a good job will look like in the future. ” The Clinton campaign declined to comment. The Trump campaign did not respond to a query. Even as Silicon Valley works against Mr. Trump, there is quiet acknowledgment that his campaign has bared some important issues. In an endorsement this month of Mrs. Clinton, the venture capital firm Union Square Ventures pointed out that “the benefits of technology and globalization have not been evenly distributed,” and that this needed to change. If Silicon Valley’s political involvement outlasts this unusual election, the tech community may start contributing more to the process than commentary and cash. “Not only are tech people going to be wielding influence, but they’re going to be the candidate,” Mr. McClure said. “Reid Hoffman, Sheryl Sandberg”  —   the chief operating officer of Facebook  —   “and a bunch of other folks here have political aspirations. ” Others may be inspired to enter politics through other doors. Palmer Luckey is the    founder of the Oculus virtual reality company, which he sold to Facebook for $2 billion. Mr. Luckey donated $10, 000 to a group dedicated to spreading    messages about Mrs. Clinton both online and off. The group’s first billboard, said to be outside Pittsburgh, labeled her “Too Big to Jail. ” Mr. Luckey told The Daily Beast that his thinking “went along the lines of, ‘Hey, I have a bunch of money. I would love to see more of this stuff. ’” He added, “I thought it sounded like a real jolly good time. ” Many virtual reality developers were less happy, and Mr. Luckey quickly posted his regrets on Facebook. He declined to comment further. “If we’re going to be more vocal, we’ll have to live more transparently,” said Hunter Walk, a venture capitalist whose campaign to persuade tech companies to give workers Election Day off signed up nearly 300 firms, including Spotify, SurveyMonkey and TaskRabbit. “There will be a period of adjustment. ” But perhaps being vocal is a temporary condition after all. The venture firm CRV was in the spotlight at the end of August with its blunt   message, which included the earthy epithet. A few weeks later, it cleaned up its website. The partners went from employing a publicist to seek out attention to declining interviews. “We reached everyone we wanted to reach, and hopefully influenced opinions,” said Saar Gur, a CRV venture capitalist. “Then the buzz died down and we went back to our day jobs, which are super busy. ”\n",
      "\n",
      "\n",
      "LR Prediction: Fake News \n",
      "DT Prediction:Fake News \n",
      "RF Prediction: Fake News \n",
      "GB Prediction: Fake News \n",
      "SVCM Prediction: Fake News\n",
      "stack_model Prediction: Fake News\n"
     ]
    }
   ],
   "source": [
    "news1 = str(input())\n",
    "manual_testing(news1)"
   ]
  },
  {
   "cell_type": "code",
   "execution_count": 141,
   "id": "b4ec9503",
   "metadata": {},
   "outputs": [
    {
     "name": "stdout",
     "output_type": "stream",
     "text": [
      "Russian warships ready to strike terrorists near Aleppo 08.11.2016 | Source: Source: Mil.ru Attack aircraft of the Russian aircraft carrier Admiral Kuznetsov get ready to strike terrorists' positions in the vicinity of Aleppo, sources at the Russian Defense Ministry said, RBC reports. \"Insurgents' attempts to break into Aleppo from outside are meaningless,\" the source said. The main task of the aircraft carrier aviation group is to strike missile and air blows on the terrorists , whose goal is to enter Aleppo. \"After the attacks on terrorists' positions, one will have to forget about the support for insurgents from the outside,\" the source said. The Russian group in the Mediterranean Sea consists of the Admiral Kuznetsov aircraft carrier , the heavy nuclear missile cruiser Pyotr Velikiy (Peter the Great) and large anti-submarine ships Severomorsk and Vice-Admiral Kulakov. Russia has increased intelligence activities in Syria to establish the areas, where terrorists are concentrated, as well as the routes that they use to move from one area to another. \"The militants took advantage of the humanitarian pause and regrouped their forces to prepare for a new breakthrough into the eastern part of Aleppo,\" the source added. According to the source, Russia will use new weapons during the upcoming attacks on terrorists . It was said that the Russian warships in the Mediterranean Sea will launch \"Caliber\" cruise missiles, although it was not specified which ships would be responsible for the launches. Pravda.Ru Russian warships travel to Syria\n",
      "\n",
      "\n",
      "LR Prediction: Not A Fake News \n",
      "DT Prediction:Not A Fake News \n",
      "RF Prediction: Not A Fake News \n",
      "GB Prediction: Not A Fake News \n",
      "SVCM Prediction: Not A Fake News\n",
      "stack_model Prediction: Not A Fake News\n"
     ]
    }
   ],
   "source": [
    "news2 = str(input())\n",
    "manual_testing(news2)"
   ]
  },
  {
   "cell_type": "code",
   "execution_count": 142,
   "id": "132c4f42",
   "metadata": {},
   "outputs": [
    {
     "name": "stdout",
     "output_type": "stream",
     "text": [
      "Videos #NoDAPL: Native American Leaders Vow to Stay All Winter, File Lawsuit Against Police Amnesty International are sending a delegation of human rights observers to monitor the response of law enforcement to the protests. Be Sociable, Share! (Rob Wilson photo)  Native American leaders vowed on Saturday to protest through the winter against a North Dakota oil pipeline they say threatens water resources and sacred lands and are planning lawsuits over police treatment of arrested protesters.  Standing Rock Sioux Chairman Dave Archambault II said he and other tribal leaders were working on providing food, heat and shelter for protesters opposed to the $3.8 billion Dakota Access Pipeline.  “We’re just working through some technical details as far as where the land is, and the type of land that can be used for some permanent structures,” Archambault told reporters in Mandan, North Dakota on Saturday morning.  At least 10 shelters were being readied on tribal land against temperatures that can fall below -35 Fahrenheit (-37 Celsius) for days at time, he said.  “It doesn’t have to put our water at risk,” said Archambault, who was joined by Cheyenne River Sioux Chairman Harold Frazier.  The two leaders said they’re considering taking legal action against law enforcement. Standing Rock Chairman Dave Archambault II said more than 40 people were injured, including broken bones and welts from rubber bullets and bean bag rounds fired by law enforcement on Thursday, Oct. 27th.  Archambault said his tribe may pursue a class action over police tactics. Officers in riot gear swept through a protester camp on private land using pepper spray, bean bag rounds and an audio cannon aiming high-pitched “sound cannon” blasts against demonstrators. At least 142 people were arrested on Thursday and Friday.  Protesters had numbers written on their arms and were housed in what appeared to be dog kennels, without bedding or furniture.  “It’s just wrong to use that type of force on innocent people,” Archambault said Saturday, Oct. 29, during a press conference in front of the Morton County Sheriff’s Department.  Cheyenne River Sioux Chairman Harold Frazier said he has heard reports of inhumane treatment while people were incarcerated.  “All they’re doing is standing up to protect that water,” Frazier said. Here come reinforcements! As police attack & arrest land protectors thousands of buffalo storm #StandingRock https://t.co/NoQyIsWbxv #NoDAPL pic.twitter.com/oMa647HviB  — RoseAnn DeMoro (@RoseAnnDeMoro) October 28, 2016  Meanwhile, Amnesty International USA (AIUSA) announced that they are sending a delegation of human rights observers to monitor the response of law enforcement to the protests.  AIUSA also has sent a letter to the Morton County Sheriff’s Department expressing concern about the degree of force used against the protests. The organization will also call on the Department of Justice to investigate police practices.  AIUSA sent a delegation of observers to the area in August and has stayed in contact both with the Indigenous community and those policing the protests since then. Letters had previously been sent to the North Dakota Highway Patrol and the Morton County Sheriff’s office calling for law enforcement officers to respect international human rights standards on the policing of protests.  “Our observers are here to ensure that everyone’s human rights are protected,” said Eric Ferrero, director of communications for AIUSA. “We’re deeply concerned about what we heard during our previous visit to Standing Rock and what has been reported to us since.”  In some instances, police have responded to protesters with pepper spray and bean bags, and in one instance, private security staff used guard dogs. Those recently arrested have reported being strip searched and forced to pay bail for minor offenses. Members of the media and legal observers have also been arrested or charged with minor offenses.  “People here just want to stand up for the rights of Indigenous people and protect their natural resources. These people should not be treated like the enemy,” said Ferrero “Police must keep the peace using minimal force appropriate to the situation. Confronting men, women, and children while outfitted in gear more suited for the battlefield is a disproportionate response.”  This picture should be shared far & wide. I can only see wrong doing from one side and it isn’t the elder! Bullying cretins! #NoDAPL pic.twitter.com/avNjgfYGnz  — Crystal Johnson (@Crystal1Johnson) October 29, 2016\n",
      "\n",
      "\n",
      "LR Prediction: Not A Fake News \n",
      "DT Prediction:Not A Fake News \n",
      "RF Prediction: Not A Fake News \n",
      "GB Prediction: Not A Fake News \n",
      "SVCM Prediction: Not A Fake News\n",
      "stack_model Prediction: Not A Fake News\n"
     ]
    }
   ],
   "source": [
    "news3 = str(input())\n",
    "manual_testing(news3)"
   ]
  },
  {
   "cell_type": "code",
   "execution_count": 143,
   "id": "0818ad08",
   "metadata": {},
   "outputs": [
    {
     "name": "stdout",
     "output_type": "stream",
     "text": [
      "If at first you don’t succeed, try a different sport. Tim Tebow, who was a Heisman   quarterback at the University of Florida but was unable to hold an N. F. L. job, is pursuing a career in Major League Baseball. He will hold a workout for M. L. B. teams this month, his agents told ESPN and other news outlets. “This may sound like a publicity stunt, but nothing could be further from the truth,” said Brodie Van Wagenen,   of CAA Baseball, part of the sports agency CAA Sports, in the statement. “I have seen Tim’s workouts, and people inside and outside the industry  —   scouts, executives, players and fans  —   will be impressed by his talent. ” It’s been over a decade since Tebow, 28, has played baseball full time, which means a comeback would be no easy task. But the former major league catcher Chad Moeller, who said in the statement that he had been training Tebow in Arizona, said he was “beyond impressed with Tim’s athleticism and swing. ” “I see bat speed and power and real baseball talent,” Moeller said. “I truly believe Tim has the skill set and potential to achieve his goal of playing in the major leagues and based on what I have seen over the past two months, it could happen relatively quickly. ” Or, take it from Gary Sheffield, the former   outfielder. News of Tebow’s attempted comeback in baseball was greeted with skepticism on Twitter. As a junior at Nease High in Ponte Vedra, Fla. Tebow drew the attention of major league scouts, batting . 494 with four home runs as a left fielder. But he ditched the bat and glove in favor of pigskin, leading Florida to two national championships, in 2007 and 2009. Two former scouts for the Los Angeles Angels told WEEI, a Boston radio station, that Tebow had been under consideration as a high school junior. “’x80’x9cWe wanted to draft him, ’x80’x9cbut he never sent back his information card,” said one of the scouts, Tom Kotchman, referring to a questionnaire the team had sent him. “He had a strong arm and had a lot of power,” said the other scout, Stephen Hargett. “If he would have been there his senior year he definitely would have had a good chance to be drafted. ” “It was just easy for him,” Hargett added. “You thought, If this guy dedicated everything to baseball like he did to football how good could he be?” Tebow’s high school baseball coach, Greg Mullins, told The Sporting News in 2013 that he believed Tebow could have made the major leagues. “He was the leader of the team with his passion, his fire and his energy,” Mullins said. “He loved to play baseball, too. He just had a bigger fire for football. ” Tebow wouldn’t be the first athlete to switch from the N. F. L. to M. L. B. Bo Jackson had one   season as a Kansas City Royal, and Deion Sanders played several years for the Atlanta Braves with mixed success. Though Michael Jordan tried to cross over to baseball from basketball as a    in 1994, he did not fare as well playing one year for a Chicago White Sox minor league team. As a football player, Tebow was unable to match his college success in the pros. The Denver Broncos drafted him in the first round of the 2010 N. F. L. Draft, and he quickly developed a reputation for clutch performances, including a memorable   pass against the Pittsburgh Steelers in the 2011 Wild Card round. But his stats and his passing form weren’t pretty, and he spent just two years in Denver before moving to the Jets in 2012, where he spent his last season on an N. F. L. roster. He was cut during preseason from the New England Patriots in 2013 and from the Philadelphia Eagles in 2015.\n",
      "\n",
      "\n",
      "LR Prediction: Fake News \n",
      "DT Prediction:Fake News \n",
      "RF Prediction: Fake News \n",
      "GB Prediction: Fake News \n",
      "SVCM Prediction: Fake News\n",
      "stack_model Prediction: Fake News\n"
     ]
    }
   ],
   "source": [
    "news4 = str(input())\n",
    "manual_testing(news4)"
   ]
  },
  {
   "cell_type": "code",
   "execution_count": 144,
   "id": "424787e2",
   "metadata": {},
   "outputs": [
    {
     "name": "stdout",
     "output_type": "stream",
     "text": [
      "42 mins ago 1 Views 0 Comments 0 Likes 'For the first time in history, we’re filming a panoramic video from the station. It means you’ll see everything we see here, with your own eyes. That’s to say, you’ll be able to feel like real cosmonauts' - Borisenko to RT. Video presented by RT in collaboration with the Russian space agency Roscosmos and the rocket and space corporation Energia More on our project website: space360.rt.com   Subscribe   Like     Leave a Reply Login with your Social ID Your email address will not be published. Name\n",
      "\n",
      "\n",
      "LR Prediction: Not A Fake News \n",
      "DT Prediction:Not A Fake News \n",
      "RF Prediction: Not A Fake News \n",
      "GB Prediction: Not A Fake News \n",
      "SVCM Prediction: Not A Fake News\n",
      "stack_model Prediction: Not A Fake News\n"
     ]
    }
   ],
   "source": [
    "news5 = str(input())\n",
    "manual_testing(news5)"
   ]
  },
  {
   "cell_type": "code",
   "execution_count": 145,
   "id": "3b0aa602",
   "metadata": {},
   "outputs": [
    {
     "name": "stdout",
     "output_type": "stream",
     "text": [
      "Trump is USA's antique hero. Clinton will be next president 08.11.2016 | Source: AP photo FBI Director James Comey said on November 6 that his department would not be criminally charging Hillary Clinton for revelations found in her email correspondence. Earlier, however, the FBI had flagged Clinton's email case as a file of high priority. It was said that the FBI had collected a lot of evidence. All of a sudden, it was announced that Clinton would be cleared. Pravda.Ru asked political scientist and publicist Leonid Krutakov to comment on such a development. \"Was it a though-out move to show that Clinton is not guilty?\" \"Did you expect a criminal case against Clinton right before the election? I thought of such a plan if Trump were winning, but now that they have cleared her name, it means that Hillary Clinton will win the election. One can be sure for 100 percent that Hillary Clinton will be the next President of the United States of America. \"I do not think that the FBI Director made that decision independently. This is a political figure, this is a job to which people are appointed by someone else. It is stupid to believe that one FBI director will stand up against the whole elite that prints money and runs business and international politics. The times of ancient heroes have passed. Trump has tried to become one. He has proclaimed a new era, not only in America but in the world, and the electorate that has consolidated around Trump will not go anywhere after the election. \"One needs another war and another threat to America to make Trump's electorate change their mind. As we remember, George W. Bush won the election in no less controversial election battles, when votes in Florida were recounted manually. We remember what happened afterwards - we had September 11, wars in Afghanistan and Iraq, and Bush immediately scored 96 percent of support of the nation. History repeats itself.\" Pravda.Ru Read article on the Russian version of Pravda.Ru What does Hillary Clinton like about Putin?\n",
      "\n",
      "\n",
      "LR Prediction: Not A Fake News \n",
      "DT Prediction:Not A Fake News \n",
      "RF Prediction: Not A Fake News \n",
      "GB Prediction: Not A Fake News \n",
      "SVCM Prediction: Not A Fake News\n",
      "stack_model Prediction: Not A Fake News\n"
     ]
    }
   ],
   "source": [
    "news6 = str(input())\n",
    "manual_testing(news6)"
   ]
  },
  {
   "cell_type": "code",
   "execution_count": 146,
   "id": "c2a873e7",
   "metadata": {},
   "outputs": [
    {
     "name": "stdout",
     "output_type": "stream",
     "text": [
      "Sunday on NBC’s “Meet the Press,” House Minority Leader Rep. Nancy Pelosi ( )  called for a FBI investigation to find out “what the Russians have” on President Donald Trump.  Pelosi said, “I want to know what the Russians have on Donald Trump. I think we have to have that investigation by the FBI into his financial, personal and political connections to Russia, and we want to see his tax returns so we can have a truth in the relationship between Putin whom he admires. ” Follow Pam Key on Twitter @pamkeyNEN\n",
      "\n",
      "\n",
      "LR Prediction: Fake News \n",
      "DT Prediction:Fake News \n",
      "RF Prediction: Fake News \n",
      "GB Prediction: Fake News \n",
      "SVCM Prediction: Fake News\n",
      "stack_model Prediction: Fake News\n"
     ]
    }
   ],
   "source": [
    "news7 = str(input())\n",
    "manual_testing(news7)"
   ]
  },
  {
   "cell_type": "code",
   "execution_count": 147,
   "id": "634333ec",
   "metadata": {},
   "outputs": [
    {
     "name": "stdout",
     "output_type": "stream",
     "text": [
      "You are here: Home / *Articles of the Bound* / Weekly Featured Profile – Randy Shannon Weekly Featured Profile – Randy Shannon October 31, 2016, 7:21 am by Trevor Loudon Leave a Comment 0  KeyWiki.org Randy Shannon  Randy Shannon is a Beaver County , Pennsylvania Democratic Party activist. “A Democratic victory in 2016 with a bigger progressive caucus can tax Wall Street, end austerity and discrimination, and put the nation to work building the solar infrastructure we desperately need.”  “We need progressives like Sanders, who support working families, running for President, for Senate, and for Congress wherever possible,” said Randy Shannon , convener of the Sanders for President PA Exploratory Committee.  Randy Shannon was a student leader in the 1960’s at Duke University . He left Duke to organize campus groups for labor, peace, women’s equality and civil rights in the South as a staff member of the Southern Student Organizing Committee . In Nashville , he was a leader of the anti-Vietnam War movement and the Free Angela Davis campaign. He was an organizer for the National Welfare Rights Organization and led a local delegation to the 1972 Democratic Convention in Miami to fight for a $6400 guaranteed income.  He ran in the TN 5th Congressional District Democratic primary in 1972 successfully targeting a right wing anti-busing candidate. He worked as a welder and organized rank and file workers as a member of Teamsters Local 327. He moved to Pittsburgh in 1976 and still works in the R&D sector of the basic materials industry. In PA he organized the Pittsburgh Youth Movement for Jobs , was active in the peace movement and progressive politics.  In 1982, he moved to Beaver County and helped organize Beaver County Fightback , to defend the home ownership of unemployed steelworkers in the Ohio River Valley. He lead the Jesse Jackson campaign in the 4th and 22nd CDs of PA opening an office in Aliquippa in 1988. He also helped organize a ballot access campaign for Dennis Kucinich in 2004. He also helped organize the Beaver County Campaign for Nuclear Disarmament and is still active in Beaver County Peace Links .  Up until 1991, Randy Shannon was a member of the Communist Party USA .  Shannon helped organize the first Citizens Congressional Hearing on Medicare for All, chaired by Rep. Dennis Kucinich in Aliquippa , PA in May 2005 and was an early advocate in Progressive Democrats of America for Medicare for All. He has worked for ten years building a local chapter of PDA that reflects the progressive coalition of minority, labor and progressive activists. For the last nine years he has been a member of the National Coordinating Committee of the Committees of Correspondence for Democracy and Socialism and a member of Democratic Socialists of America .  Randy Shannon attended the 6th National Convention of the Committees of Correspondence for Democracy and Socialism (CCDS) at San Francisco’s Whitcomb Hotel, July 23-26, 2009.  The “Building the Progressive Majority: Race, Class and Gender” plenary discussion began a series of panel and workshop discussions. The plenary panel consisted of reports highlighting work of CCDS activists in the South, in the Heartland “rustbelt states,” on the West Coast and New England and the East Coast. Randy Shannon’s report on Western Pennsylvania and the dire conditions in the wake of de-industrialization was particularly moving. He described independent political work with groups like Progressive Democrats of America in raising the consciousness and unity of the working class and Black community, and then in turn ally with forces like the Congressional Progressive Caucus in the Congress to defeat the right and advance progressive planks in Obama’s economic package. He stressed the importance of ending the wars and healthcare reform, especially HR 676 “Medicare for All.”\n",
      "\n",
      "\n",
      "LR Prediction: Not A Fake News \n",
      "DT Prediction:Not A Fake News \n",
      "RF Prediction: Fake News \n",
      "GB Prediction: Not A Fake News \n",
      "SVCM Prediction: Not A Fake News\n",
      "stack_model Prediction: Not A Fake News\n"
     ]
    }
   ],
   "source": [
    "news8 = str(input())\n",
    "manual_testing(news8)"
   ]
  },
  {
   "cell_type": "code",
   "execution_count": 148,
   "id": "401aa076",
   "metadata": {},
   "outputs": [
    {
     "name": "stdout",
     "output_type": "stream",
     "text": [
      "don't we have the receipt?\n",
      "\n",
      "\n",
      "LR Prediction: Not A Fake News \n",
      "DT Prediction:Not A Fake News \n",
      "RF Prediction: Not A Fake News \n",
      "GB Prediction: Not A Fake News \n",
      "SVCM Prediction: Not A Fake News\n",
      "stack_model Prediction: Not A Fake News\n"
     ]
    }
   ],
   "source": [
    "news9 = str(input())\n",
    "manual_testing(news9)"
   ]
  },
  {
   "cell_type": "code",
   "execution_count": 149,
   "id": "186d695d",
   "metadata": {},
   "outputs": [
    {
     "name": "stdout",
     "output_type": "stream",
     "text": [
      "Have you seen that pro-Hillary TV ad of disgraced Gen. John Allen?  Nauseating.  You should know that in 2011, Allen, then a 4-star general in the U.S. Marine Corps, was nominated to be NATO’s Supreme Allied Commander, Europe, pending confirmation by the Senate. On November 13, 2012, Defense Secretary Leon Panetta suspended Allen’s confirmation hearing, pending investigations into the general’s “inappropriate communication” with a woman named Jill Kelley. Gen. John Allen (l); Jill Kelley (r)  As part of the fallout of the Gen. David Petraeus -Paula Broadwell affair, the FBI uncovered 20,000 to 30,000 pages of correspondence — mostly email — between Allen and Kelley from 2010 to 2012. Reportedly, their correspondence was “flirtatious” and “inappropriate” as Allen and Kelley were both married at the time, but not to each other.  Seriously, how can a 4-star general even have so much free time as to write 20,000 to 30,000 emails in the space of two years to ANYONE? 20,000 emails mean an average of 28 emails a day exchanged between Allen and Kelley; 30,000 emails mean an average of 42 emails a day. There is no one with whom I’ve exchanged 28 emails a day, even less 42 emails.  The upshot: Not only did John Allen lose his confirmation as NATO’s Supreme Allied Commander, he also lost his job as Commander of U.S. forces in Afghanistan — a post to which he was promoted to replace the disgraced Gen. Petraeus. (See “ Obama purges U.S. military command (Part 1) ”)  Allen retired from the military in February 2013, but was appointed Special Presidential Envoy for the Global Coalition to Counter ISIL (or ISIS) — a post and title created for Allen by Obama, which Allen held for about a year from September 2014 until October 23, 2015.  Allen was a featured speaker at the 2016 Democratic National Convention in Philadelphia. He criticized Donald Trump and endorsed Hillary Clinton — who abandoned four Americans to die in Benghazi — for President.  Like the New Yorker that he is, Trump fired back, calling Allen “a failed general.”  Trump does have the endorsement of 184 non-failed and non-disgraced U.S. generals and admirals, including at least four 4-star and fourteen 3-star flag officers, as well as the endorsement of 14 Medal of Honor recipients.  The endorsements began with an open letter on Sept. 6, 2016, from 88 retired U.S. general and admirals : “The 2016 election affords the American people an urgently needed opportunity to make a long-overdue course correction in our national security posture and policy. As retired senior leaders of America’s military, we believe that such a change can only be made by someone who has not been deeply involved with, and substantially responsible for, the hollowing out of our military and the burgeoning threats facing our country around the world. For this reason, we support Donald Trump’s candidacy to be our next Commander-in-Chief. For the past eight years, America’s armed forces have been subjected to a series of ill-considered and debilitating budget cuts, policy choices and combat operations that have left the superb men and women in uniform less capable of performing their vital missions in the future than we require them to be. Simultaneously, enemies of this country have been emboldened, sensing weakness and irresolution in Washington and opportunities for aggression at our expense and that of other freedom-loving nations. In our professional judgment, the combined effect is potentially extremely perilous. That is especially the case if our government persists in the practices that have brought us to this present pass. For this reason, we support Donald Trump and his commitment to rebuild our military, to secure our borders, to defeat our Islamic supremacist adversaries and restore law and order domestically. We urge our fellow Americans to do the same.”  Two days later on Sept. 8, another 21 retired U.S. generals and admirals joined the list, followed by 31 more the next day, on Sept. 9, and another 44 on Sept. 16, bringing the total number of flag officers who have endorsed Trump to 184.  Below is the list, as of Sept. 16, 2016, of the retired U.S. generals and admirals, who are endorsing Trump for President and Commander-In-Chief: General Burwell B. Bell III, US Army, Retired General Alfred G. Hansen, US Air Force, Retired Admiral Jerry Johnson, US Navy, Retired Lieutenant General William G. Boykin, US Army, Retired Lieutenant General Marvin Covault, US Army, Retired Lieutenant General Brett Dula, US Air Force, Retired Lieutenant General Dan Duren, US Air Force, Retired Lieutenant General Harold T. Fields, US Army, Retired Lieutenant General Bruce L. Fister, US Air Force, Retired Lieutenant General Michael Flynn, US Army, Retired Lieutenant General Gordon E, Fornell, US Air Force, Retired Lieutenant Jay Garner, US Army, Retired Lieutenant General Ron Hite, US Army, Retired Lieutenant Generals John I. Hudson, USMC, Retired Lieutenant General Harley Hughes, US Air Force, Retired Lieutenant General Keith Kellogg, US Army, Retired Lieutenant General Timothy A. Kinnan, US Air Force, Retired Lieutenant General Joe Kinzer, US Army, US Army, Retired Lieutenant General Bennett L. Lewis, US Army, Retired Lieutenant General Frederick McCorkle, US MC, Retired Lieutenant General Thomas McInerney, US Air Force, Retired Lieutenant General Clifford H. Rees, Jr. US Air Force, Retired Lieutenant James C. Riley, US Army, Retired Lieutenant General Hugh G. Smith, US Army, Retired Lieutenant General John B. Sylvester, US Army, Retired Lieutenant General David J. Teal, US Air Force, Retired Lieutenant General William E. Thurman, US Air Force, Retired Lieutenant General Jack Woodward, US Air Force, Retired Vice Admiral Mike Bucchi, US Navy, Retired Vice Admiral Edward Clexton, Jr. US Navy, Retired Vice Admiral Bernard M. Kauderer, US Navy, Retired Vice Admiral J. Theodore Parker, US Navy, Retired Vice Admiral R.F.Schoultz, US Navy, Retired Vice Admiral Robert Spane, US Navy, Retired Vice Admiral Donald Thompson, US Coast Guard, Retired Vice Admiral Howard B. Thorsen, US Coast Guard, Retired Vice Admiral John Totushek, US Navy, Retired Vice Admiral Jerry Unruh, US Navy, Retired Major General Joe Arbuckle, US Army, Retired Major General John Bianchi, CSMR, Retired Major General Pat Brady, US Army, Retired Major General Bobby G. Butcher, US Marine Corps, Retired, Major General Henry D. Canterbury, US Air Force, Retired Major General Carroll D. Childers, US Army, Retired Major General Jeffrey Cliver, US Air Force, Retired Major General Tommy F. Crawford, US Air Force, Retired Major General Harley Davis, US Army, Retired Major General Felix Dupre, US Air Force, Retired Major General Neil Eddins, US Air Force, Retired Major General David W. Eidsaune, US Air Force, Retired Major General John R. Farrington, US Air Force, Retired Major General Dave Garza, US Marine Corps, Retired Major General William A. Gorton, US Air Force, Retired Major General Kenneth Hagemann, US Air Force, Retired Major General Gary L. Harrell, US Army, Retired Major General Geoffrey Higginbothan, US Marine Corps, Retired Major General Kent Hillhouse,US Army, Retired Major General Jerry D. Holmes, US Air Force, Retired Major General John A. Leide, US Army, Retired Major General James E. Livingston, USMC, Retired Major General John D. Logeman, Jr., US Air Force, Retired Major General Homer S. Long, US Army, Retired Major General Billy McCoy, US Air Force, Retired Major General Robert Messerli, US Air Force, Retired Major General John Miller, US Air Force, Retired Major General Ray O’Mara, US Air Force, Retired Major General George W.“Nordie” Norwood, US Air Force, Retired Major General Robert W. Paret, US Air Force MC, Retired Major General James W. Parker, US Army, Retired Major General Richard Perraut, US Air Force, Retired Major General R.V. Secord, US Air Force, Retired Major General Sidney Shachnow, US Army, Retired Major General Edison E. Scholes, US Army (Retired) Major General Richard A. Scholtes,US Army, Retired Major General Mark Solo, US Air Force, Retired Major General James N. Stewart, US Air Force, Retired Major General Michael Sullivan, US MC, Retired Major General Thomas R. Tempel, US Army, Retired Major General Richard L. Testa, US Air Force, Retired Major General Paul E. Vallely, US Army, Retired Major General John Welde, US Air Force, Retired Major General Kenneth W. Weir, US Marine Corps, Retired Major General Michael Wiedemer, US Air Force, Retired Rear Admiral Phillip Anselmo, US Navy, Retired Rear Admiral Peter Booth, US Navy,Retired Rear Admiral Thomas F. Brown III, US Navy, Retired Rear Admiral James J. Carey,US Navy, Retired Rear Admiral, Larry Chambers, US Navy, Retired Rear Admiral Robert C. Crates, SC, US Navy, Retired Rear Admiral Mimi Drew, US Navy, Retired Rear Admiral Ernest Elliot, SC, US Navy, Retired Rear Admiral James H. Flatley III, US Navy, Retired Rear Admiral Vance H. Fry, SC, US Navy, Retired Rear Admiral Byron Fuller, US Navy, Retired Rear Admiral George M. Furlong, US Navy, Retired Rear Admiral Albert Gallotta, Jr. US Navy, Retired Rear Admiral Michael R. Groothousen US Navy, Retired Rear Admiral William A. Guereck, US Navy, Retired Rear Admiral Dale Hagen, US Navy, Retired Rear Admiral John G. Hekman, US Navy, Retired Rear Admiral Charles F. Horne III US Navy, Retired Rear Admiral William P Houley, US Navy, Retired Rear Admiral Grady L. Jackson, US Navy, Retired Rear Admiral J. Adrian Jackson, US Navy, Retired Rear Admiral Frederick C. Johnson, US Navy, Retired Rear Admiral Pierce J. Johnson, US Navy, Retired Rear Admiral Jack Kavanaugh, SC, US Navy, Retired Rear Admiral Charles R.Kubic, US Navy, Retired Rear Admiral Rich Landolt, US Navy, Retired Rear Admiral Don Loren, US Navy, Retired Rear Admiral William J. McDaniel, MD, US Navy, Retired Rear Admiral E.S. McGinley II, US Navy, Retired Rear Admiral Fred Metz, US Navy, Retired Rear Admiral Douglas M. Moore Jr. SC US Navy. Retired Rear Admiral John A. Moriarty, US Navy, Retired Rear Admiral David R. Morris, US Navy, Retired Rear Admiral James A. Mozart, SC US Navy, Retired Rear Admiral Ed Nelson, US Coast Guard, Retired Rear Admiral Philip R. Olsen, US Navy, Retired Rear Admiral Robert S. Owens, US Navy, Retired Rear Admiral Robert Passmore,US Navy, Retired Rear Admiral W.W. Pickavance, Jr., US Navy, Retired Rear Admiral Leonard F. Picotte, US Navy, Retired Rear Admiral Brian C. Prindle, US Navy, Retired Rear Admiral Mike Roesner, SC USN, Retired Rear Admiral William J. Ryan, US Navy, Retired Rear Admiral William L. Schachte, Jr., US Navy JAGC, Retired Rear Admiral William R. Schmidt, US Navy, Retired Rear Admiral William H. Shawcross, US Navy, Retired Rear Admiral Hugh P. Scott, US Navy, MC, Retired Rear Admiral Gregory Slavonic, US Navy, Retired Rear Admiral Paul Sutherland, US Navy, Retired Rear Admiral Charles Williams, US Navy, Retired Rear Admiral H. Denny Wisely, US Navy, Retired Rear Admiral Theodore J. Wojnar, US Coast Guard, Retired Brigadier General Charles L. Bishop, US Army, Retired Brigadier General Remo Butler, US Army, Retired Brigadier General Jimmy L. Cash, US Air Force, Retired Brigadier General George P. Cole, Jr. US Air Force, Retired Brigadier General Philip M. Drew, US Air Force, Retired Brigadier General Jerome V. Foust, US Army, Retired Brigadier General Norman Ham, US Air Force, Retired Brigadier General Thomas W. Honeywill, US Air Force, Retired Brigadier General Charles Jones, US Air Force, Retired Brigadier General Gary M. Jones, US Army, Retired Brigadier General James M. Johnston III, US Air Force, Retired Brigadier General Thomas J. Lennon, US Air Force, Retired Brigadier General Bruce Miketinac, US Army, Retired Brigadier General Bert Mizusawa, US Army, Retired Brigadier General Harold C. Morgan, US Air Force, Retired Brigadier General Stephen Mundt, US Army, Retired Brigadier General Mike Neil, US Marines Corps, Retired Brigadier general Robert V. Paschon, US Air Force, Retired Brigadier General Mark D. Scraba, US Army, Retired Brigadier General George L. Schulstad, US Air Force, Retired Brigadier General Richard M. Tabor, US Army, retired Brigadier General Hugh B. Tant III, US Army, Retired Brigadier General Troy Tolbert, US Air Force, Retired Brigadier General Robert F. Titus, US Air Force, Retired Brigadier General William O. Walsh, US Air Force, Retired Brigadier General Robert V. Woods, US Air Force Retired Admiral James “Ace” Lyons, Retired\n"
     ]
    },
    {
     "name": "stdout",
     "output_type": "stream",
     "text": [
      "\n",
      "\n",
      "LR Prediction: Not A Fake News \n",
      "DT Prediction:Not A Fake News \n",
      "RF Prediction: Not A Fake News \n",
      "GB Prediction: Not A Fake News \n",
      "SVCM Prediction: Not A Fake News\n",
      "stack_model Prediction: Not A Fake News\n"
     ]
    }
   ],
   "source": [
    "news10 = str(input())\n",
    "manual_testing(news10)"
   ]
  },
  {
   "cell_type": "markdown",
   "id": "12fdbc38",
   "metadata": {},
   "source": [
    "# Evaluation of manual testing "
   ]
  },
  {
   "cell_type": "markdown",
   "id": "5012da2b",
   "metadata": {},
   "source": [
    "In this manual testing, I will be using my models to test on unseen data from test.csv that do not have any labels on whether it is fake or real. I will personally verify if the news is fake or real.\n",
    "\n",
    "In the 10 iterations, I have determined that the following news from 1 to 10  that are tested are identified as fake ,real ,real,fake,real,real,fake,real,real,real.\n",
    "\n",
    "Out of all 10 iterations, all the models were able to accurately predict the news correctly with the exception of random forest predicting number news 8 wrongly."
   ]
  },
  {
   "cell_type": "code",
   "execution_count": 150,
   "id": "7d2dfb64",
   "metadata": {},
   "outputs": [],
   "source": [
    "c = {'Names of models ': [\"LR\",\"DT\",\"RF\",\"GB\",\"SVCM\",\"stack_model\"],'Score of manual testing out of 10 iterations':[10,10,9,10,10,10] }"
   ]
  },
  {
   "cell_type": "code",
   "execution_count": 151,
   "id": "79c8c362",
   "metadata": {},
   "outputs": [],
   "source": [
    "manual_testing_results=pd.DataFrame(data=c)"
   ]
  },
  {
   "cell_type": "code",
   "execution_count": 152,
   "id": "35532bda",
   "metadata": {},
   "outputs": [
    {
     "data": {
      "text/html": [
       "<div>\n",
       "<style scoped>\n",
       "    .dataframe tbody tr th:only-of-type {\n",
       "        vertical-align: middle;\n",
       "    }\n",
       "\n",
       "    .dataframe tbody tr th {\n",
       "        vertical-align: top;\n",
       "    }\n",
       "\n",
       "    .dataframe thead th {\n",
       "        text-align: right;\n",
       "    }\n",
       "</style>\n",
       "<table border=\"1\" class=\"dataframe\">\n",
       "  <thead>\n",
       "    <tr style=\"text-align: right;\">\n",
       "      <th></th>\n",
       "      <th>Names of models</th>\n",
       "      <th>Score of manual testing out of 10 iterations</th>\n",
       "    </tr>\n",
       "  </thead>\n",
       "  <tbody>\n",
       "    <tr>\n",
       "      <th>0</th>\n",
       "      <td>LR</td>\n",
       "      <td>10</td>\n",
       "    </tr>\n",
       "    <tr>\n",
       "      <th>1</th>\n",
       "      <td>DT</td>\n",
       "      <td>10</td>\n",
       "    </tr>\n",
       "    <tr>\n",
       "      <th>2</th>\n",
       "      <td>RF</td>\n",
       "      <td>9</td>\n",
       "    </tr>\n",
       "    <tr>\n",
       "      <th>3</th>\n",
       "      <td>GB</td>\n",
       "      <td>10</td>\n",
       "    </tr>\n",
       "    <tr>\n",
       "      <th>4</th>\n",
       "      <td>SVCM</td>\n",
       "      <td>10</td>\n",
       "    </tr>\n",
       "    <tr>\n",
       "      <th>5</th>\n",
       "      <td>stack_model</td>\n",
       "      <td>10</td>\n",
       "    </tr>\n",
       "  </tbody>\n",
       "</table>\n",
       "</div>"
      ],
      "text/plain": [
       "  Names of models   Score of manual testing out of 10 iterations\n",
       "0               LR                                            10\n",
       "1               DT                                            10\n",
       "2               RF                                             9\n",
       "3               GB                                            10\n",
       "4             SVCM                                            10\n",
       "5      stack_model                                            10"
      ]
     },
     "execution_count": 152,
     "metadata": {},
     "output_type": "execute_result"
    }
   ],
   "source": [
    "manual_testing_results"
   ]
  },
  {
   "cell_type": "markdown",
   "id": "3919f4c3",
   "metadata": {},
   "source": [
    "# Evaluation of models"
   ]
  },
  {
   "cell_type": "code",
   "execution_count": 205,
   "id": "6e0e8d91",
   "metadata": {},
   "outputs": [],
   "source": [
    "d =[LR_results,DT_results,RF_results,GB_results,SVCM_results,stack_model_results]"
   ]
  },
  {
   "cell_type": "code",
   "execution_count": 206,
   "id": "918a7abd",
   "metadata": {},
   "outputs": [
    {
     "name": "stdout",
     "output_type": "stream",
     "text": [
      "[{'Model': 'Logistic Regression', 'Cross Validation Score': 0.9484, 'accuracy': 0.9502, 'precision': 0.9408, 'recall': 0.9604, 'f1': 0.9505}, {'Model': 'Decision Tree', 'Cross Validation Score': 0.8812, 'accuracy': 0.8774, 'precision': 0.8772, 'recall': 0.8768, 'f1': 0.877}, {'Model': 'Random Forest', 'Cross Validation Score': 0.9153, 'accuracy': 0.9145, 'precision': 0.9359, 'recall': 0.8893, 'f1': 0.912}, {'Model': 'Gradient Boosting', 'Cross Validation Score': 0.9319, 'accuracy': 0.9242, 'precision': 0.9156, 'recall': 0.9338, 'f1': 0.9246}, {'Model': 'Support Vector Machine', 'Cross Validation Score': 0.8728, 'accuracy': 0.8916, 'precision': 0.84, 'recall': 0.9667, 'f1': 0.8989}, {'Model': 'stack_model', 'Cross Validation Score': 0.9532, 'accuracy': 0.9516, 'precision': 0.9495, 'recall': 0.9536, 'f1': 0.9515}]\n"
     ]
    }
   ],
   "source": [
    "print(d)"
   ]
  },
  {
   "cell_type": "code",
   "execution_count": 207,
   "id": "dbc9c1c6",
   "metadata": {},
   "outputs": [],
   "source": [
    "results=pd.DataFrame(data=d)"
   ]
  },
  {
   "cell_type": "code",
   "execution_count": 208,
   "id": "69d62ebd",
   "metadata": {},
   "outputs": [
    {
     "data": {
      "text/html": [
       "<div>\n",
       "<style scoped>\n",
       "    .dataframe tbody tr th:only-of-type {\n",
       "        vertical-align: middle;\n",
       "    }\n",
       "\n",
       "    .dataframe tbody tr th {\n",
       "        vertical-align: top;\n",
       "    }\n",
       "\n",
       "    .dataframe thead th {\n",
       "        text-align: right;\n",
       "    }\n",
       "</style>\n",
       "<table border=\"1\" class=\"dataframe\">\n",
       "  <thead>\n",
       "    <tr style=\"text-align: right;\">\n",
       "      <th></th>\n",
       "      <th>Model</th>\n",
       "      <th>Cross Validation Score</th>\n",
       "      <th>accuracy</th>\n",
       "      <th>precision</th>\n",
       "      <th>recall</th>\n",
       "      <th>f1</th>\n",
       "    </tr>\n",
       "  </thead>\n",
       "  <tbody>\n",
       "    <tr>\n",
       "      <th>0</th>\n",
       "      <td>Logistic Regression</td>\n",
       "      <td>0.9484</td>\n",
       "      <td>0.9502</td>\n",
       "      <td>0.9408</td>\n",
       "      <td>0.9604</td>\n",
       "      <td>0.9505</td>\n",
       "    </tr>\n",
       "    <tr>\n",
       "      <th>1</th>\n",
       "      <td>Decision Tree</td>\n",
       "      <td>0.8812</td>\n",
       "      <td>0.8774</td>\n",
       "      <td>0.8772</td>\n",
       "      <td>0.8768</td>\n",
       "      <td>0.8770</td>\n",
       "    </tr>\n",
       "    <tr>\n",
       "      <th>2</th>\n",
       "      <td>Random Forest</td>\n",
       "      <td>0.9153</td>\n",
       "      <td>0.9145</td>\n",
       "      <td>0.9359</td>\n",
       "      <td>0.8893</td>\n",
       "      <td>0.9120</td>\n",
       "    </tr>\n",
       "    <tr>\n",
       "      <th>3</th>\n",
       "      <td>Gradient Boosting</td>\n",
       "      <td>0.9319</td>\n",
       "      <td>0.9242</td>\n",
       "      <td>0.9156</td>\n",
       "      <td>0.9338</td>\n",
       "      <td>0.9246</td>\n",
       "    </tr>\n",
       "    <tr>\n",
       "      <th>4</th>\n",
       "      <td>Support Vector Machine</td>\n",
       "      <td>0.8728</td>\n",
       "      <td>0.8916</td>\n",
       "      <td>0.8400</td>\n",
       "      <td>0.9667</td>\n",
       "      <td>0.8989</td>\n",
       "    </tr>\n",
       "    <tr>\n",
       "      <th>5</th>\n",
       "      <td>stack_model</td>\n",
       "      <td>0.9532</td>\n",
       "      <td>0.9516</td>\n",
       "      <td>0.9495</td>\n",
       "      <td>0.9536</td>\n",
       "      <td>0.9515</td>\n",
       "    </tr>\n",
       "  </tbody>\n",
       "</table>\n",
       "</div>"
      ],
      "text/plain": [
       "                    Model  Cross Validation Score  accuracy  precision  \\\n",
       "0     Logistic Regression                  0.9484    0.9502     0.9408   \n",
       "1           Decision Tree                  0.8812    0.8774     0.8772   \n",
       "2           Random Forest                  0.9153    0.9145     0.9359   \n",
       "3       Gradient Boosting                  0.9319    0.9242     0.9156   \n",
       "4  Support Vector Machine                  0.8728    0.8916     0.8400   \n",
       "5             stack_model                  0.9532    0.9516     0.9495   \n",
       "\n",
       "   recall      f1  \n",
       "0  0.9604  0.9505  \n",
       "1  0.8768  0.8770  \n",
       "2  0.8893  0.9120  \n",
       "3  0.9338  0.9246  \n",
       "4  0.9667  0.8989  \n",
       "5  0.9536  0.9515  "
      ]
     },
     "execution_count": 208,
     "metadata": {},
     "output_type": "execute_result"
    }
   ],
   "source": [
    "results"
   ]
  },
  {
   "cell_type": "code",
   "execution_count": 209,
   "id": "a7c99052",
   "metadata": {},
   "outputs": [
    {
     "data": {
      "image/png": "[encoded data removed]",
      "text/plain": [
       "<Figure size 1000x600 with 1 Axes>"
      ]
     },
     "metadata": {},
     "output_type": "display_data"
    }
   ],
   "source": [
    "\n",
    "models = [data['Model'] for data in d]\n",
    "cv_scores = [data['Cross Validation Score'] for data in d]\n",
    "accuracy = [data['accuracy'] for data in d]\n",
    "\n",
    "\n",
    "plt.figure(figsize=(10, 6))\n",
    "\n",
    "\n",
    "plt.plot(models, cv_scores, marker='o', linestyle='-', label='Cross Validation Score')\n",
    "\n",
    "\n",
    "plt.plot(models, accuracy, marker='s', linestyle='--', label='Accuracy')\n",
    "\n",
    "\n",
    "plt.xlabel('Models')\n",
    "plt.ylabel('Score')\n",
    "plt.title('Model Performance (Cross Validation & Accuracy)')\n",
    "\n",
    "\n",
    "plt.legend()\n",
    "\n",
    "\n",
    "plt.tight_layout()\n",
    "\n",
    "\n",
    "plt.show()"
   ]
  },
  {
   "cell_type": "code",
   "execution_count": 210,
   "id": "2f5f6951",
   "metadata": {},
   "outputs": [
    {
     "name": "stdout",
     "output_type": "stream",
     "text": [
      "{'Logistic Regression': '0.00180', 'Decision Tree': '0.00380', 'Random Forest': '0.00080', 'Gradient Boosting': '0.00770', 'Support Vector Machine': '0.01880', 'stack_model': '0.00160'}\n"
     ]
    },
    {
     "data": {
      "text/plain": [
       "{'Logistic Regression': '0.00180',\n",
       " 'Decision Tree': '0.00380',\n",
       " 'Random Forest': '0.00080',\n",
       " 'Gradient Boosting': '0.00770',\n",
       " 'Support Vector Machine': '0.01880',\n",
       " 'stack_model': '0.00160'}"
      ]
     },
     "execution_count": 210,
     "metadata": {},
     "output_type": "execute_result"
    }
   ],
   "source": [
    "difference_dict = {}\n",
    "for i in range(len(cv_scores)):\n",
    "     difference = abs(cv_scores[i] - accuracy[i])\n",
    "     difference_dict[models[i]] = \"{:.5f}\".format(difference)\n",
    "\n",
    " \n",
    "\n",
    "print(difference_dict)\n",
    "difference_dict"
   ]
  },
  {
   "cell_type": "code",
   "execution_count": 211,
   "id": "f9abb7f0",
   "metadata": {
    "scrolled": false
   },
   "outputs": [
    {
     "data": {
      "text/html": [
       "<div>\n",
       "<style scoped>\n",
       "    .dataframe tbody tr th:only-of-type {\n",
       "        vertical-align: middle;\n",
       "    }\n",
       "\n",
       "    .dataframe tbody tr th {\n",
       "        vertical-align: top;\n",
       "    }\n",
       "\n",
       "    .dataframe thead th {\n",
       "        text-align: right;\n",
       "    }\n",
       "</style>\n",
       "<table border=\"1\" class=\"dataframe\">\n",
       "  <thead>\n",
       "    <tr style=\"text-align: right;\">\n",
       "      <th></th>\n",
       "      <th>Model</th>\n",
       "      <th>Difference</th>\n",
       "    </tr>\n",
       "  </thead>\n",
       "  <tbody>\n",
       "    <tr>\n",
       "      <th>0</th>\n",
       "      <td>Logistic Regression</td>\n",
       "      <td>0.00180</td>\n",
       "    </tr>\n",
       "    <tr>\n",
       "      <th>1</th>\n",
       "      <td>Decision Tree</td>\n",
       "      <td>0.00380</td>\n",
       "    </tr>\n",
       "    <tr>\n",
       "      <th>2</th>\n",
       "      <td>Random Forest</td>\n",
       "      <td>0.00080</td>\n",
       "    </tr>\n",
       "    <tr>\n",
       "      <th>3</th>\n",
       "      <td>Gradient Boosting</td>\n",
       "      <td>0.00770</td>\n",
       "    </tr>\n",
       "    <tr>\n",
       "      <th>4</th>\n",
       "      <td>Support Vector Machine</td>\n",
       "      <td>0.01880</td>\n",
       "    </tr>\n",
       "    <tr>\n",
       "      <th>5</th>\n",
       "      <td>stack_model</td>\n",
       "      <td>0.00160</td>\n",
       "    </tr>\n",
       "  </tbody>\n",
       "</table>\n",
       "</div>"
      ],
      "text/plain": [
       "                    Model Difference\n",
       "0     Logistic Regression    0.00180\n",
       "1           Decision Tree    0.00380\n",
       "2           Random Forest    0.00080\n",
       "3       Gradient Boosting    0.00770\n",
       "4  Support Vector Machine    0.01880\n",
       "5             stack_model    0.00160"
      ]
     },
     "execution_count": 211,
     "metadata": {},
     "output_type": "execute_result"
    }
   ],
   "source": [
    "Consistency = pd.DataFrame(difference_dict.items(), columns=['Model', 'Difference'])\n",
    "Consistency"
   ]
  },
  {
   "cell_type": "code",
   "execution_count": 212,
   "id": "a76dedea",
   "metadata": {},
   "outputs": [
    {
     "data": {
      "text/plain": [
       "['Logistic Regression',\n",
       " 'Decision Tree',\n",
       " 'Random Forest',\n",
       " 'Gradient Boosting',\n",
       " 'Support Vector Machine',\n",
       " 'stack_model']"
      ]
     },
     "execution_count": 212,
     "metadata": {},
     "output_type": "execute_result"
    }
   ],
   "source": [
    "models"
   ]
  },
  {
   "cell_type": "code",
   "execution_count": 230,
   "id": "c818479a",
   "metadata": {
    "scrolled": false
   },
   "outputs": [
    {
     "data": {
      "image/png": "[encoded data removed]",
      "text/plain": [
       "<Figure size 1000x600 with 1 Axes>"
      ]
     },
     "metadata": {},
     "output_type": "display_data"
    }
   ],
   "source": [
    "\n",
    "consistency_values = [float(value) for value in difference_dict.values()]\n",
    "\n",
    "# Create a bar chart\n",
    "plt.figure(figsize=(10, 6))\n",
    "plt.bar(models, consistency_values, color='royalblue')\n",
    "plt.xlabel('Model')\n",
    "plt.ylabel('Difference (Absolute Value)')\n",
    "plt.title('Difference in Accuracy Performance between Cross Validation and Accuracy ')\n",
    "plt.xticks(rotation=45, ha='right')  # Rotate x-axis labels for better readability\n",
    "plt.tight_layout()\n",
    "\n",
    "# Show the plot\n",
    "plt.show()"
   ]
  },
  {
   "cell_type": "code",
   "execution_count": 229,
   "id": "6ce8a886",
   "metadata": {},
   "outputs": [
    {
     "data": {
      "image/png": "[encoded data removed]",
      "text/plain": [
       "<Figure size 1000x600 with 1 Axes>"
      ]
     },
     "metadata": {},
     "output_type": "display_data"
    }
   ],
   "source": [
    "Precision_results = [data['precision'] for data in d]\n",
    "Recall_results = [data['recall'] for data in d]\n",
    "f1_results = [data['f1'] for data in d]\n",
    "\n",
    "plt.figure(figsize=(10, 6))\n",
    "\n",
    "\n",
    "plt.plot(models, Precision_results, marker='o', linestyle='-', label='Precision')\n",
    "\n",
    "\n",
    "plt.plot(models, Recall_results, marker='s', linestyle='--', label='Recall')\n",
    "\n",
    "plt.plot(models, f1_results, marker='x', linestyle=':', label='f1')\n",
    "\n",
    "\n",
    "plt.xlabel('Models')\n",
    "plt.ylabel('Precision and Recall and f1')\n",
    "plt.title('Model Performance (Precision and Recall and f1)')\n",
    "\n",
    "\n",
    "plt.legend()\n",
    "\n",
    "\n",
    "plt.tight_layout()\n",
    "\n",
    "\n",
    "plt.show()"
   ]
  },
  {
   "cell_type": "markdown",
   "id": "c55019dc",
   "metadata": {},
   "source": [
    "From the results, we can see the stack_model has the best performance of all the models.stack_model has the best accuracy, best f1 score   More detailed evaluation can be found in the report. We will be using this stack_model as our machine learning model in our application."
   ]
  },
  {
   "cell_type": "code",
   "execution_count": 220,
   "id": "438f29c5",
   "metadata": {},
   "outputs": [],
   "source": [
    "import pickle"
   ]
  },
  {
   "cell_type": "code",
   "execution_count": 221,
   "id": "d72c4f0c",
   "metadata": {},
   "outputs": [],
   "source": [
    "pickle.dump(stack_model,open('model.pkl','wb'))"
   ]
  },
  {
   "cell_type": "code",
   "execution_count": 222,
   "id": "7b2b18ff",
   "metadata": {},
   "outputs": [],
   "source": [
    "pickle.dump(vectorization,open('vector.pkl','wb'))"
   ]
  },
  {
   "cell_type": "code",
   "execution_count": 223,
   "id": "f28eebc8",
   "metadata": {},
   "outputs": [],
   "source": [
    "loaded_model=pickle.load(open('model.pkl','rb'))"
   ]
  },
  {
   "cell_type": "code",
   "execution_count": 224,
   "id": "7e6f5349",
   "metadata": {},
   "outputs": [],
   "source": [
    "def fake_news_testing(news):\n",
    "    input_data=[news]\n",
    "    vectorized_input_data=vectorization.transform(input_data)\n",
    "    prediction=loaded_model.predict(vectorized_input_data)\n",
    "    print(output_label(prediction))"
   ]
  },
  {
   "cell_type": "code",
   "execution_count": 225,
   "id": "792857dc",
   "metadata": {},
   "outputs": [
    {
     "name": "stdout",
     "output_type": "stream",
     "text": [
      "Fake News\n"
     ]
    }
   ],
   "source": [
    "fake_news_testing(\"\"\"Despite Dutch   migration politician Geert Wilders coming second in the Dutch national elections this week, French presidential candidate Marine Le Pen called the result “extremely positive”. [Earlier this week, the Dutch Party for Freedom (PVV) under the leadership of   politician Geert Wilders came second in the national elections. Many in politics including Dutch Prime Minister Mark Rutte and the media claimed Wilders coming second means the end of the populist movement sweeping Europe.  French   migration presidential candidate Marine Le Pen has firmly disagreed, Tiroler Tageszeitung reports. Ms. Le Pen called the result which saw the PVV increase its seats in the parliament “extremely positive”. The vote also led to the total collapse of the Dutch Labour party which went from 25 per cent of the vote in 2012 to only 6 per cent, losing the majority of its seats in the parliament. “I would have been disappointed if he had slipped or stagnated, but he has risen and the parties in power have fallen heavily,” Le Pen noted. Le Pen, who leads the French Front National, is also an MEP and a member of the Europe of Nations and Freedom (ENF) group along with the PVV and several other populist parties across Europe. “For Wilders this is extremely positive, which is the proof of the reach of our joint ideas in the different European countries,” she added. In six weeks, Marine Le Pen will head to her own election fight as the first round of the French presidential elections approaches. Le Pen has maintained a steady lead in polling for weeks for the first round and is currently at around 28 per cent according to polls released Friday. France, Opinion Way poll: Le Pen ( ): 28% ↑Macron ( *): 25%Fillon ( ): 20% ↑Hamon ( ): 13%  …     https:  .   —   Europe Elects (@EuropeElects) March 17, 2017,  Le Pen is running on a platform of   migration,   and has said that she will pursue a course that would see the French leave the euro and reinstate the Franc as well as potentially leave the European Union altogether. The Front National leader is expected to face Emmanuel Macron in the second round in May as conservative Republican candidate François Fillon has been tarred by financial scandals involving fake jobs for his family members. Initially, Macron was seen as easily defeating Le Pen as early    polls gave him a substantial lead. Since then, Le Pen has been closing the gap between her and Macron with latest polling showing that the difference is approaching single digits. France: Presidential election ( ) Opinion Way poll: Macron ( *): 59% ( )Le Pen ( ): 41% (+1)  —   Europe Elects (@EuropeElects) March 17, 2017,  Despite the media and political establishment claiming the Durch elections have hurt the   populist movement, the polling results show a clear pattern of increased support for Le Pen and the movement labelled the “Patriotic Spring” by Geert Wilders.  Follow Chris Tomlinson on Twitter at @TomlinsonCJ or email at ctomlinson@breitbart. com\"\"\")"
   ]
  }
 ],
 "metadata": {
  "kernelspec": {
   "display_name": "Python 3 (ipykernel)",
   "language": "python",
   "name": "python3"
  },
  "language_info": {
   "codemirror_mode": {
    "name": "ipython",
    "version": 3
   },
   "file_extension": ".py",
   "mimetype": "text/x-python",
   "name": "python",
   "nbconvert_exporter": "python",
   "pygments_lexer": "ipython3",
   "version": "3.9.13"
  }
 },
 "nbformat": 4,
 "nbformat_minor": 5
}
